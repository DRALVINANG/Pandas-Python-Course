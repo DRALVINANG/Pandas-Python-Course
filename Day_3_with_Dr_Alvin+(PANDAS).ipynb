{
  "nbformat": 4,
  "nbformat_minor": 0,
  "metadata": {
    "colab": {
      "name": "Day 3 with Dr Alvin.ipynb",
      "provenance": [],
      "toc_visible": true
    },
    "kernelspec": {
      "name": "python3",
      "display_name": "Python 3"
    },
    "language_info": {
      "name": "python"
    }
  },
  "cells": [
    {
      "cell_type": "markdown",
      "metadata": {
        "id": "0UDyahK73CzF"
      },
      "source": [
        "#Introduction\n",
        "\n",
        "---\n",
        "\n",
        "\n",
        "Data Processing and Analysis\n",
        "- Numpy\n",
        "- Pandas\n",
        "\n",
        "Data Visualization\n",
        "- Matplotlib\n",
        "- Seaborn\n",
        "\n",
        "Data Modeling\n",
        "- Scikit Learn"
      ]
    },
    {
      "cell_type": "markdown",
      "metadata": {
        "id": "oxSVx_8Z4Mxp"
      },
      "source": [
        "##Brief Intro to Numpy\n",
        "\n",
        "---\n",
        "\n"
      ]
    },
    {
      "cell_type": "code",
      "metadata": {
        "id": "uddt_4ulsckm"
      },
      "source": [
        "import numpy as np"
      ],
      "execution_count": 9,
      "outputs": []
    },
    {
      "cell_type": "code",
      "metadata": {
        "id": "_vhYFLGyu_C5",
        "colab": {
          "base_uri": "https://localhost:8080/"
        },
        "outputId": "b76cc79e-c045-4e21-a131-a32259a5539e"
      },
      "source": [
        "a = [3,4,5,6]\n",
        "b = [6,5,4,3]\n",
        "print(a+b)\n",
        "\n",
        "a1 = np.array(a)\n",
        "b1 = np.array(b)\n",
        "print(a1+b1)\n"
      ],
      "execution_count": null,
      "outputs": [
        {
          "output_type": "stream",
          "name": "stdout",
          "text": [
            "[3, 4, 5, 6, 6, 5, 4, 3]\n",
            "[9 9 9 9]\n"
          ]
        }
      ]
    },
    {
      "cell_type": "code",
      "metadata": {
        "colab": {
          "base_uri": "https://localhost:8080/"
        },
        "id": "6ckGisAu30CP",
        "outputId": "41e9be59-77fc-49d4-f1f0-5d3fb30f7fa7"
      },
      "source": [
        "a = [3,4,5,6,7,8]\n",
        "a1 = np.array(a)\n",
        "print(a1>5)\n",
        "b = filter(lambda x:x>5,a)\n",
        "print(list(b))"
      ],
      "execution_count": null,
      "outputs": [
        {
          "output_type": "stream",
          "name": "stdout",
          "text": [
            "[False False False  True  True  True]\n",
            "[6, 7, 8]\n"
          ]
        }
      ]
    },
    {
      "cell_type": "markdown",
      "metadata": {
        "id": "G9uWyfj14RD2"
      },
      "source": [
        "##Brief Intro to Pandas\n",
        "\n",
        "---\n",
        "\n"
      ]
    },
    {
      "cell_type": "code",
      "metadata": {
        "id": "qziO8Xi14Cvr"
      },
      "source": [
        "import pandas as pd"
      ],
      "execution_count": 10,
      "outputs": []
    },
    {
      "cell_type": "code",
      "metadata": {
        "id": "HI0kgLj34aFC",
        "colab": {
          "base_uri": "https://localhost:8080/",
          "height": 402
        },
        "outputId": "ed7c431d-1ca7-48b3-a69f-9118451672f4"
      },
      "source": [
        "df = pd.read_csv('subjects.txt')\n",
        "print(df[df.Students>70])"
      ],
      "execution_count": 11,
      "outputs": [
        {
          "output_type": "error",
          "ename": "FileNotFoundError",
          "evalue": "ignored",
          "traceback": [
            "\u001b[0;31m---------------------------------------------------------------------------\u001b[0m",
            "\u001b[0;31mFileNotFoundError\u001b[0m                         Traceback (most recent call last)",
            "\u001b[0;32m<ipython-input-11-37e3ab3ac0f1>\u001b[0m in \u001b[0;36m<module>\u001b[0;34m()\u001b[0m\n\u001b[0;32m----> 1\u001b[0;31m \u001b[0mdf\u001b[0m \u001b[0;34m=\u001b[0m \u001b[0mpd\u001b[0m\u001b[0;34m.\u001b[0m\u001b[0mread_csv\u001b[0m\u001b[0;34m(\u001b[0m\u001b[0;34m'subjects.txt'\u001b[0m\u001b[0;34m)\u001b[0m\u001b[0;34m\u001b[0m\u001b[0;34m\u001b[0m\u001b[0m\n\u001b[0m\u001b[1;32m      2\u001b[0m \u001b[0mprint\u001b[0m\u001b[0;34m(\u001b[0m\u001b[0mdf\u001b[0m\u001b[0;34m[\u001b[0m\u001b[0mdf\u001b[0m\u001b[0;34m.\u001b[0m\u001b[0mStudents\u001b[0m\u001b[0;34m>\u001b[0m\u001b[0;36m70\u001b[0m\u001b[0;34m]\u001b[0m\u001b[0;34m)\u001b[0m\u001b[0;34m\u001b[0m\u001b[0;34m\u001b[0m\u001b[0m\n",
            "\u001b[0;32m/usr/local/lib/python3.7/dist-packages/pandas/io/parsers.py\u001b[0m in \u001b[0;36mread_csv\u001b[0;34m(filepath_or_buffer, sep, delimiter, header, names, index_col, usecols, squeeze, prefix, mangle_dupe_cols, dtype, engine, converters, true_values, false_values, skipinitialspace, skiprows, skipfooter, nrows, na_values, keep_default_na, na_filter, verbose, skip_blank_lines, parse_dates, infer_datetime_format, keep_date_col, date_parser, dayfirst, cache_dates, iterator, chunksize, compression, thousands, decimal, lineterminator, quotechar, quoting, doublequote, escapechar, comment, encoding, dialect, error_bad_lines, warn_bad_lines, delim_whitespace, low_memory, memory_map, float_precision)\u001b[0m\n\u001b[1;32m    686\u001b[0m     )\n\u001b[1;32m    687\u001b[0m \u001b[0;34m\u001b[0m\u001b[0m\n\u001b[0;32m--> 688\u001b[0;31m     \u001b[0;32mreturn\u001b[0m \u001b[0m_read\u001b[0m\u001b[0;34m(\u001b[0m\u001b[0mfilepath_or_buffer\u001b[0m\u001b[0;34m,\u001b[0m \u001b[0mkwds\u001b[0m\u001b[0;34m)\u001b[0m\u001b[0;34m\u001b[0m\u001b[0;34m\u001b[0m\u001b[0m\n\u001b[0m\u001b[1;32m    689\u001b[0m \u001b[0;34m\u001b[0m\u001b[0m\n\u001b[1;32m    690\u001b[0m \u001b[0;34m\u001b[0m\u001b[0m\n",
            "\u001b[0;32m/usr/local/lib/python3.7/dist-packages/pandas/io/parsers.py\u001b[0m in \u001b[0;36m_read\u001b[0;34m(filepath_or_buffer, kwds)\u001b[0m\n\u001b[1;32m    452\u001b[0m \u001b[0;34m\u001b[0m\u001b[0m\n\u001b[1;32m    453\u001b[0m     \u001b[0;31m# Create the parser.\u001b[0m\u001b[0;34m\u001b[0m\u001b[0;34m\u001b[0m\u001b[0;34m\u001b[0m\u001b[0m\n\u001b[0;32m--> 454\u001b[0;31m     \u001b[0mparser\u001b[0m \u001b[0;34m=\u001b[0m \u001b[0mTextFileReader\u001b[0m\u001b[0;34m(\u001b[0m\u001b[0mfp_or_buf\u001b[0m\u001b[0;34m,\u001b[0m \u001b[0;34m**\u001b[0m\u001b[0mkwds\u001b[0m\u001b[0;34m)\u001b[0m\u001b[0;34m\u001b[0m\u001b[0;34m\u001b[0m\u001b[0m\n\u001b[0m\u001b[1;32m    455\u001b[0m \u001b[0;34m\u001b[0m\u001b[0m\n\u001b[1;32m    456\u001b[0m     \u001b[0;32mif\u001b[0m \u001b[0mchunksize\u001b[0m \u001b[0;32mor\u001b[0m \u001b[0miterator\u001b[0m\u001b[0;34m:\u001b[0m\u001b[0;34m\u001b[0m\u001b[0;34m\u001b[0m\u001b[0m\n",
            "\u001b[0;32m/usr/local/lib/python3.7/dist-packages/pandas/io/parsers.py\u001b[0m in \u001b[0;36m__init__\u001b[0;34m(self, f, engine, **kwds)\u001b[0m\n\u001b[1;32m    946\u001b[0m             \u001b[0mself\u001b[0m\u001b[0;34m.\u001b[0m\u001b[0moptions\u001b[0m\u001b[0;34m[\u001b[0m\u001b[0;34m\"has_index_names\"\u001b[0m\u001b[0;34m]\u001b[0m \u001b[0;34m=\u001b[0m \u001b[0mkwds\u001b[0m\u001b[0;34m[\u001b[0m\u001b[0;34m\"has_index_names\"\u001b[0m\u001b[0;34m]\u001b[0m\u001b[0;34m\u001b[0m\u001b[0;34m\u001b[0m\u001b[0m\n\u001b[1;32m    947\u001b[0m \u001b[0;34m\u001b[0m\u001b[0m\n\u001b[0;32m--> 948\u001b[0;31m         \u001b[0mself\u001b[0m\u001b[0;34m.\u001b[0m\u001b[0m_make_engine\u001b[0m\u001b[0;34m(\u001b[0m\u001b[0mself\u001b[0m\u001b[0;34m.\u001b[0m\u001b[0mengine\u001b[0m\u001b[0;34m)\u001b[0m\u001b[0;34m\u001b[0m\u001b[0;34m\u001b[0m\u001b[0m\n\u001b[0m\u001b[1;32m    949\u001b[0m \u001b[0;34m\u001b[0m\u001b[0m\n\u001b[1;32m    950\u001b[0m     \u001b[0;32mdef\u001b[0m \u001b[0mclose\u001b[0m\u001b[0;34m(\u001b[0m\u001b[0mself\u001b[0m\u001b[0;34m)\u001b[0m\u001b[0;34m:\u001b[0m\u001b[0;34m\u001b[0m\u001b[0;34m\u001b[0m\u001b[0m\n",
            "\u001b[0;32m/usr/local/lib/python3.7/dist-packages/pandas/io/parsers.py\u001b[0m in \u001b[0;36m_make_engine\u001b[0;34m(self, engine)\u001b[0m\n\u001b[1;32m   1178\u001b[0m     \u001b[0;32mdef\u001b[0m \u001b[0m_make_engine\u001b[0m\u001b[0;34m(\u001b[0m\u001b[0mself\u001b[0m\u001b[0;34m,\u001b[0m \u001b[0mengine\u001b[0m\u001b[0;34m=\u001b[0m\u001b[0;34m\"c\"\u001b[0m\u001b[0;34m)\u001b[0m\u001b[0;34m:\u001b[0m\u001b[0;34m\u001b[0m\u001b[0;34m\u001b[0m\u001b[0m\n\u001b[1;32m   1179\u001b[0m         \u001b[0;32mif\u001b[0m \u001b[0mengine\u001b[0m \u001b[0;34m==\u001b[0m \u001b[0;34m\"c\"\u001b[0m\u001b[0;34m:\u001b[0m\u001b[0;34m\u001b[0m\u001b[0;34m\u001b[0m\u001b[0m\n\u001b[0;32m-> 1180\u001b[0;31m             \u001b[0mself\u001b[0m\u001b[0;34m.\u001b[0m\u001b[0m_engine\u001b[0m \u001b[0;34m=\u001b[0m \u001b[0mCParserWrapper\u001b[0m\u001b[0;34m(\u001b[0m\u001b[0mself\u001b[0m\u001b[0;34m.\u001b[0m\u001b[0mf\u001b[0m\u001b[0;34m,\u001b[0m \u001b[0;34m**\u001b[0m\u001b[0mself\u001b[0m\u001b[0;34m.\u001b[0m\u001b[0moptions\u001b[0m\u001b[0;34m)\u001b[0m\u001b[0;34m\u001b[0m\u001b[0;34m\u001b[0m\u001b[0m\n\u001b[0m\u001b[1;32m   1181\u001b[0m         \u001b[0;32melse\u001b[0m\u001b[0;34m:\u001b[0m\u001b[0;34m\u001b[0m\u001b[0;34m\u001b[0m\u001b[0m\n\u001b[1;32m   1182\u001b[0m             \u001b[0;32mif\u001b[0m \u001b[0mengine\u001b[0m \u001b[0;34m==\u001b[0m \u001b[0;34m\"python\"\u001b[0m\u001b[0;34m:\u001b[0m\u001b[0;34m\u001b[0m\u001b[0;34m\u001b[0m\u001b[0m\n",
            "\u001b[0;32m/usr/local/lib/python3.7/dist-packages/pandas/io/parsers.py\u001b[0m in \u001b[0;36m__init__\u001b[0;34m(self, src, **kwds)\u001b[0m\n\u001b[1;32m   2008\u001b[0m         \u001b[0mkwds\u001b[0m\u001b[0;34m[\u001b[0m\u001b[0;34m\"usecols\"\u001b[0m\u001b[0;34m]\u001b[0m \u001b[0;34m=\u001b[0m \u001b[0mself\u001b[0m\u001b[0;34m.\u001b[0m\u001b[0musecols\u001b[0m\u001b[0;34m\u001b[0m\u001b[0;34m\u001b[0m\u001b[0m\n\u001b[1;32m   2009\u001b[0m \u001b[0;34m\u001b[0m\u001b[0m\n\u001b[0;32m-> 2010\u001b[0;31m         \u001b[0mself\u001b[0m\u001b[0;34m.\u001b[0m\u001b[0m_reader\u001b[0m \u001b[0;34m=\u001b[0m \u001b[0mparsers\u001b[0m\u001b[0;34m.\u001b[0m\u001b[0mTextReader\u001b[0m\u001b[0;34m(\u001b[0m\u001b[0msrc\u001b[0m\u001b[0;34m,\u001b[0m \u001b[0;34m**\u001b[0m\u001b[0mkwds\u001b[0m\u001b[0;34m)\u001b[0m\u001b[0;34m\u001b[0m\u001b[0;34m\u001b[0m\u001b[0m\n\u001b[0m\u001b[1;32m   2011\u001b[0m         \u001b[0mself\u001b[0m\u001b[0;34m.\u001b[0m\u001b[0munnamed_cols\u001b[0m \u001b[0;34m=\u001b[0m \u001b[0mself\u001b[0m\u001b[0;34m.\u001b[0m\u001b[0m_reader\u001b[0m\u001b[0;34m.\u001b[0m\u001b[0munnamed_cols\u001b[0m\u001b[0;34m\u001b[0m\u001b[0;34m\u001b[0m\u001b[0m\n\u001b[1;32m   2012\u001b[0m \u001b[0;34m\u001b[0m\u001b[0m\n",
            "\u001b[0;32mpandas/_libs/parsers.pyx\u001b[0m in \u001b[0;36mpandas._libs.parsers.TextReader.__cinit__\u001b[0;34m()\u001b[0m\n",
            "\u001b[0;32mpandas/_libs/parsers.pyx\u001b[0m in \u001b[0;36mpandas._libs.parsers.TextReader._setup_parser_source\u001b[0;34m()\u001b[0m\n",
            "\u001b[0;31mFileNotFoundError\u001b[0m: [Errno 2] No such file or directory: 'subjects.txt'"
          ]
        }
      ]
    },
    {
      "cell_type": "markdown",
      "metadata": {
        "id": "UxJgU-8g7GV0"
      },
      "source": [
        "##Brief Intro to Matplotlib\n",
        "\n",
        "---\n",
        "\n"
      ]
    },
    {
      "cell_type": "code",
      "metadata": {
        "id": "rW0njSVV4cx7"
      },
      "source": [
        "import matplotlib.pyplot as plt "
      ],
      "execution_count": null,
      "outputs": []
    },
    {
      "cell_type": "code",
      "metadata": {
        "colab": {
          "base_uri": "https://localhost:8080/",
          "height": 265
        },
        "id": "29IeSVpr7NTL",
        "outputId": "b1d0fdc2-39d0-4ed5-d713-cdac17a97ca8"
      },
      "source": [
        "x = np.linspace(0,4*np.pi,200)\n",
        "y = np.sin(x)\n",
        "plt.plot(x,y)\n",
        "plt.show()"
      ],
      "execution_count": null,
      "outputs": [
        {
          "output_type": "display_data",
          "data": {
            "image/png": "[encoded data removed]",
            "text/plain": [
              "<Figure size 432x288 with 1 Axes>"
            ]
          },
          "metadata": {
            "needs_background": "light"
          }
        }
      ]
    },
    {
      "cell_type": "markdown",
      "metadata": {
        "id": "oULbDm2U7mK-"
      },
      "source": [
        "#The Data Science Process\n",
        "\n",
        "---\n",
        "\n",
        "\n",
        "- Topic 1: Data Preparation\n",
        "- Topic 2: Data Transformation\n",
        "- Topic 3: Data Visualization\n",
        "- Topic 4: Data Analysis\n",
        "- Topic 5: Advanced Data Analysis"
      ]
    },
    {
      "cell_type": "markdown",
      "metadata": {
        "id": "vqzyAAGn8X1S"
      },
      "source": [
        "#Topic 1: Data Preparation\n",
        "\n",
        "---\n",
        "\n",
        "\n",
        "\n",
        "- Step 1: Install Import Packages\n",
        "- Step 2: Using Numpy or Pandas to store a series\n",
        "- Step 3: Using Pandas to create a simple Dataframe\n",
        "- Step 4: Using Pandas to Import and Export Data from .csv\n",
        "- Step 5: Checking the Attributes of the Data\n",
        "\n",
        "PAUSE: 1st Quiz of the Day = Importing and Exporting Health Data\n",
        "\n",
        "- Step 6a: Learning to select Columns from the Data\n",
        "- Step 6b: Learning to select Rows from the data\n",
        "- Step 6c: Learning how to Slice the Data (i.e. selecting particular rows)\n",
        "\n",
        "PAUSE: 2nd Quiz of the Day = Selecting and Slicing Health Data\n",
        "\n",
        "- Step 7: Filtering Data\n",
        "\n",
        "PAUSE: 3rd Quiz of the Day = Filtering Health Data \n",
        "\n",
        "- Step 8: Data Cleansing via Dealing with Missing Data\n",
        "\n",
        "PAUSE: 4th Quiz of the Day = Dealing with Missing Data in the Health Dataset"
      ]
    },
    {
      "cell_type": "markdown",
      "metadata": {
        "id": "F4xNxYYLN-hA"
      },
      "source": [
        "##Topic 1 - Step 1: Install and Import Packages\n",
        "\n",
        "---\n",
        "\n"
      ]
    },
    {
      "cell_type": "code",
      "metadata": {
        "id": "pP3ePxr8NRpz"
      },
      "source": [
        "#Topic 1 Step 1: Install and Import Packages \n",
        "\n",
        "# These packagss have been pre-installed on Google Colab\n",
        "!pip install numpy\n",
        "!pip install matplotlib\n",
        "!pip install seaborn\n",
        "!pip install pandas\n",
        "!pip install scipy\n",
        "!pip install sklearn"
      ],
      "execution_count": null,
      "outputs": []
    },
    {
      "cell_type": "code",
      "metadata": {
        "id": "FlyBcH45NgLH"
      },
      "source": [
        "#Type this\n",
        "\n",
        "import numpy as np\n",
        "import matplotlib.pyplot as plt\n",
        "import seaborn as sb\n",
        "import pandas as pd\n",
        "import sklearn"
      ],
      "execution_count": null,
      "outputs": []
    },
    {
      "cell_type": "markdown",
      "metadata": {
        "id": "i29s3-d1OKav"
      },
      "source": [
        "##Topic 1 - Step 2: Using Numpy or Pandas to store a series\n",
        "\n",
        "---\n",
        "\n"
      ]
    },
    {
      "cell_type": "code",
      "metadata": {
        "id": "YkPGjdyHOUuf"
      },
      "source": [
        "#Topic 1 Step 2: Using Numpy or Pandas to store a series\n",
        "#Type this\n",
        "\n",
        "data = np.array([10,20,30,40])\n",
        "s = pd.Series(data,index=['2011','2012','2013','2014'])\n",
        "s\n"
      ],
      "execution_count": null,
      "outputs": []
    },
    {
      "cell_type": "code",
      "metadata": {
        "id": "RROhC_vROcym"
      },
      "source": [
        "#Type this\n",
        "\n",
        "data = {'2011':40,'2012':30,'2013':20,'2014':10}\n",
        "s = pd.Series(data)\n",
        "s"
      ],
      "execution_count": null,
      "outputs": []
    },
    {
      "cell_type": "code",
      "metadata": {
        "id": "hoGMhEGeOesk"
      },
      "source": [
        "#Type this\n",
        "\n",
        "s['2012']"
      ],
      "execution_count": null,
      "outputs": []
    },
    {
      "cell_type": "markdown",
      "metadata": {
        "id": "EDA9yXo0OslQ"
      },
      "source": [
        "##Topic 1 - Step 3: Using Pandas to create a simple Dataframe\n",
        "\n",
        "---\n",
        "\n"
      ]
    },
    {
      "cell_type": "code",
      "metadata": {
        "id": "8ZjHf-NzO6E-"
      },
      "source": [
        "#Topic 1 - Step 3: Using Pandas to create a simple Dataframe\n",
        "#Type this\n",
        "\n",
        "data = {\n",
        "    'Name' : [\"Ally\",\"Belinda\",\"Jane\",\"Steve\"],\n",
        "    'Height' : [160,165,155,180],\n",
        "    'Gender' : ['F','F','F','M']\n",
        "}"
      ],
      "execution_count": null,
      "outputs": []
    },
    {
      "cell_type": "code",
      "metadata": {
        "id": "egUM3MiIPVti"
      },
      "source": [
        "#Type this\n",
        "\n",
        "df = pd.DataFrame(data)\n",
        "df"
      ],
      "execution_count": null,
      "outputs": []
    },
    {
      "cell_type": "markdown",
      "metadata": {
        "id": "bLd4bHm2PeAM"
      },
      "source": [
        "##Topic 1 - Step 4: Using Pandas to Import and Export Data from .csv\n",
        "\n",
        "---\n",
        "\n"
      ]
    },
    {
      "cell_type": "code",
      "metadata": {
        "id": "v0a5P1YdPhP7"
      },
      "source": [
        "#Topic 1 - Step 4: Using Pandas to Import and Export Data from .csv\n",
        "#Don't need to Type this\n",
        "\n",
        "# Import CSV file\n",
        "mtcars = pd.read_csv('https://raw.githubusercontent.com/tertiarycourses/datasets/master/mtcars.csv')\n",
        "mtcars\n"
      ],
      "execution_count": null,
      "outputs": []
    },
    {
      "cell_type": "code",
      "metadata": {
        "id": "GWW3e1GzPn24"
      },
      "source": [
        "#Don't need to Type this\n",
        "\n",
        "mtcars_sample = pd.read_csv('https://raw.githubusercontent.com/tertiarycourses/datasets/master/mtcars.csv',\n",
        "                          index_col='car_names',\n",
        "                          usecols=['car_names','mpg','hp','cyl','am'])\n",
        "mtcars_sample"
      ],
      "execution_count": null,
      "outputs": []
    },
    {
      "cell_type": "code",
      "metadata": {
        "id": "QGNY05bRPwVB"
      },
      "source": [
        "#Don't need to Type this\n",
        "\n",
        "mtcars_sample.to_csv('cars_sample.csv')"
      ],
      "execution_count": null,
      "outputs": []
    },
    {
      "cell_type": "code",
      "metadata": {
        "id": "_FkWjT1EPylZ"
      },
      "source": [
        "#Don't need to Type this\n",
        "\n",
        "mtcars_sample.to_excel('cars_sample.xlsx', sheet_name='cars', index=False)"
      ],
      "execution_count": null,
      "outputs": []
    },
    {
      "cell_type": "code",
      "metadata": {
        "id": "ew8B0BmNP07i"
      },
      "source": [
        "#Don't need to Type this\n",
        "\n",
        "mtcars_sample2 = pd.read_excel('cars_sample.xlsx', sheet_name='cars')"
      ],
      "execution_count": null,
      "outputs": []
    },
    {
      "cell_type": "markdown",
      "metadata": {
        "id": "W0Z1mpl9P_QB"
      },
      "source": [
        "##Topic 1 - Step 5: Checking the Attributes of the Data\n",
        "\n",
        "---\n",
        "\n"
      ]
    },
    {
      "cell_type": "code",
      "metadata": {
        "id": "h_pnKcvbQCEi"
      },
      "source": [
        "#Topic 1 - Step 5: Checking the Attributes of the Data\n",
        "#Don't need to Type this\n",
        "\n",
        "mtcars.info()\n"
      ],
      "execution_count": null,
      "outputs": []
    },
    {
      "cell_type": "code",
      "metadata": {
        "id": "lrOYT9QVQ6tf"
      },
      "source": [
        "#Don't need to Type this\n",
        "\n",
        "mtcars_sample.shape"
      ],
      "execution_count": null,
      "outputs": []
    },
    {
      "cell_type": "code",
      "metadata": {
        "id": "qlPBcQWHQ8_3"
      },
      "source": [
        "#Don't need to Type this\n",
        "\n",
        "mtcars_sample.columns"
      ],
      "execution_count": null,
      "outputs": []
    },
    {
      "cell_type": "code",
      "metadata": {
        "id": "fPIkR9xFQ-9R"
      },
      "source": [
        "#Don't need to Type this\n",
        "\n",
        "mtcars_sample.index"
      ],
      "execution_count": null,
      "outputs": []
    },
    {
      "cell_type": "code",
      "metadata": {
        "id": "M21FV6wYRA75"
      },
      "source": [
        "#Don't need to Type this\n",
        "\n",
        "mtcars_sample['mpg'].values"
      ],
      "execution_count": null,
      "outputs": []
    },
    {
      "cell_type": "markdown",
      "metadata": {
        "id": "h7DaMwK0RG6v"
      },
      "source": [
        "###PAUSE: 1st Quiz of the Day = Importing and Exporting Health Data\n",
        "\n",
        "---\n",
        "\n",
        "* Import the Singapore Health Expenditure dataset\n",
        "from https://raw.githubusercontent.com/tertiarycourses/ datasets/master/government-health-expenditure.csv\n",
        "* Use financial year as index\n",
        "* Import only operating, development and\n",
        "government health expenditure\n",
        "* Export the data to csv format"
      ]
    },
    {
      "cell_type": "code",
      "metadata": {
        "id": "5YhI8e9SR7FL"
      },
      "source": [
        "#PAUSE: 1st Quiz of the Day = Importing and Exporting Health Data\n",
        "#Type this\n",
        "\n",
        "health_expenditure = pd.read_csv('https://raw.githubusercontent.com/tertiarycourses/datasets/master/government-health-expenditure.csv',)\n",
        "health_expenditure"
      ],
      "execution_count": null,
      "outputs": []
    },
    {
      "cell_type": "code",
      "metadata": {
        "id": "4YJ9Tt7Ufb7j"
      },
      "source": [
        "#Type this\n",
        "\n",
        "health_expenditure_sample = pd.read_csv('https://raw.githubusercontent.com/tertiarycourses/datasets/master/government-health-expenditure.csv',\n",
        "                                        index_col='financial_year',\n",
        "                                        usecols=['financial_year','operating_expenditure','development_expenditure','government_health_expenditure'])\n",
        "health_expenditure_sample"
      ],
      "execution_count": null,
      "outputs": []
    },
    {
      "cell_type": "code",
      "metadata": {
        "id": "KBlRG6qufi70"
      },
      "source": [
        "#Type this\n",
        "\n",
        "health_expenditure_sample.to_csv('Heath_Expenditure.csv')"
      ],
      "execution_count": null,
      "outputs": []
    },
    {
      "cell_type": "markdown",
      "metadata": {
        "id": "3gcGIQywgC12"
      },
      "source": [
        "##Topic 1 - Step 6a: Learning to select Columns from the Data\n",
        "\n",
        "---\n",
        "\n"
      ]
    },
    {
      "cell_type": "code",
      "metadata": {
        "id": "aeQG7qZ1gINm"
      },
      "source": [
        "#Don't need to type this\n",
        "mtcars_sample['mpg']"
      ],
      "execution_count": null,
      "outputs": []
    },
    {
      "cell_type": "code",
      "metadata": {
        "id": "KeVnLR1sgOAR"
      },
      "source": [
        "#Don't need to type this\n",
        "mtcars_sample[['mpg','cyl']]"
      ],
      "execution_count": null,
      "outputs": []
    },
    {
      "cell_type": "code",
      "metadata": {
        "id": "V9CCT_8ugQ1-"
      },
      "source": [
        "#Don't need to type this\n",
        "mtcars_sample.mpg"
      ],
      "execution_count": null,
      "outputs": []
    },
    {
      "cell_type": "code",
      "metadata": {
        "id": "JNMC2cZtgT5u"
      },
      "source": [
        "#Don't need to type this\n",
        "mtcars_sample[['mpg','cyl']]"
      ],
      "execution_count": null,
      "outputs": []
    },
    {
      "cell_type": "markdown",
      "metadata": {
        "id": "5z8Ovug8gZ4O"
      },
      "source": [
        "##Topic 1 - Step 6b: Learning to select Rows from the data\n",
        "\n",
        "---\n",
        "\n"
      ]
    },
    {
      "cell_type": "code",
      "metadata": {
        "id": "Xko81APKgfNN"
      },
      "source": [
        "#Don't need to type this\n",
        "mtcars_sample.loc['Fiat 128']"
      ],
      "execution_count": null,
      "outputs": []
    },
    {
      "cell_type": "code",
      "metadata": {
        "id": "vZO5uDDxgsGW"
      },
      "source": [
        "#Don't need to type this\n",
        "mtcars_sample.loc[['Fiat 128','Lotus Europa']]"
      ],
      "execution_count": null,
      "outputs": []
    },
    {
      "cell_type": "code",
      "metadata": {
        "id": "LTr8HdrAgvlA"
      },
      "source": [
        "#Don't need to type this\n",
        "mtcars_sample.iloc[3]"
      ],
      "execution_count": null,
      "outputs": []
    },
    {
      "cell_type": "code",
      "metadata": {
        "id": "FZBP7NxpgyQc"
      },
      "source": [
        "#Don't need to type this\n",
        "mtcars_sample.iloc[[3,5]]"
      ],
      "execution_count": null,
      "outputs": []
    },
    {
      "cell_type": "markdown",
      "metadata": {
        "id": "chjlcxdFhd5t"
      },
      "source": [
        "##Topic 1 - Step 6c: Learning how to Slice the Data (i.e. selecting particular rows)\n",
        "\n",
        "---\n",
        "\n"
      ]
    },
    {
      "cell_type": "code",
      "metadata": {
        "id": "-TB9v3HihPnt"
      },
      "source": [
        "#Don't need to type this\n",
        "mtcars_sample.iloc[3:6]"
      ],
      "execution_count": null,
      "outputs": []
    },
    {
      "cell_type": "code",
      "metadata": {
        "id": "tTwWnva8hv0o"
      },
      "source": [
        "#Don't need to type this\n",
        "mtcars_sample.iloc[:3]"
      ],
      "execution_count": null,
      "outputs": []
    },
    {
      "cell_type": "code",
      "metadata": {
        "id": "cPt3QK8Ih1sp"
      },
      "source": [
        "#Don't need to type this\n",
        "mtcars_sample.iloc[:,:3]"
      ],
      "execution_count": null,
      "outputs": []
    },
    {
      "cell_type": "markdown",
      "metadata": {
        "id": "Y5MEVezeh7nG"
      },
      "source": [
        "###PAUSE: 2nd Quiz of the Day = Selecting and Slicing Health Data\n",
        "\n",
        "---\n",
        "\n",
        "* Import the Singapore Health Expenditure dataset\n",
        "from https://raw.githubusercontent.com/tertiarycourses/datasets/master/government-health-expenditure.csv\n",
        "\n",
        "* Retrieve the operating and development\n",
        "expenditure data from the year 2016 and 2017\n",
        "\n",
        "* Slice out the operating and development\n",
        "expenditure data from 2009 to 2013"
      ]
    },
    {
      "cell_type": "code",
      "metadata": {
        "id": "37fHo0NtiGkY"
      },
      "source": [
        "#Type this\n",
        "\n",
        "health_expenditure_sample = pd.read_csv('https://raw.githubusercontent.com/tertiarycourses/datasets/master/government-health-expenditure.csv',\n",
        "                                        index_col='financial_year',\n",
        "                                        usecols=['financial_year','operating_expenditure','development_expenditure','government_health_expenditure'])\n",
        "health_expenditure_sample"
      ],
      "execution_count": null,
      "outputs": []
    },
    {
      "cell_type": "code",
      "metadata": {
        "id": "vXSyVNeoiLOY"
      },
      "source": [
        "#Type this\n",
        "\n",
        "health_expenditure_sample.info()"
      ],
      "execution_count": null,
      "outputs": []
    },
    {
      "cell_type": "code",
      "metadata": {
        "id": "5RnJrVPyiWBh"
      },
      "source": [
        "#Type this\n",
        "\n",
        "health_expenditure_sample[['operating_expenditure','development_expenditure']]"
      ],
      "execution_count": null,
      "outputs": []
    },
    {
      "cell_type": "code",
      "metadata": {
        "id": "fGRgLgD2imSP"
      },
      "source": [
        "#Type this\n",
        "\n",
        "health_expenditure_sample[['operating_expenditure','development_expenditure']].loc[[2016,2017]]"
      ],
      "execution_count": null,
      "outputs": []
    },
    {
      "cell_type": "code",
      "metadata": {
        "id": "cDqzy5_vkwWO"
      },
      "source": [
        "#Type this\n",
        "\n",
        "health_expenditure_sample[['operating_expenditure','development_expenditure']].iloc[3:8]"
      ],
      "execution_count": null,
      "outputs": []
    },
    {
      "cell_type": "markdown",
      "metadata": {
        "id": "gnnsh4xNDhEU"
      },
      "source": [
        "##Topic 1 - Step 7: Filtering Data\n",
        "\n",
        "---\n",
        "\n"
      ]
    },
    {
      "cell_type": "code",
      "metadata": {
        "id": "ATyBx4ToD4Hb"
      },
      "source": [
        "#Don't need to type this\n",
        "\n",
        "mtcars_sample[mtcars_sample['cyl']>4]"
      ],
      "execution_count": null,
      "outputs": []
    },
    {
      "cell_type": "code",
      "metadata": {
        "id": "4JRt6j1UD6Td"
      },
      "source": [
        "#Don't need to type this\n",
        "\n",
        "mtcars_sample[(mtcars_sample[\"mpg\"] > 20) | (mtcars_sample[\"cyl\"] < 6)]"
      ],
      "execution_count": null,
      "outputs": []
    },
    {
      "cell_type": "code",
      "metadata": {
        "id": "spKwXpYlD-Ii"
      },
      "source": [
        "#Don't need to type this\n",
        "\n",
        "mtcars_sample[mtcars_sample[\"am\"] == 1]"
      ],
      "execution_count": null,
      "outputs": []
    },
    {
      "cell_type": "code",
      "metadata": {
        "id": "FeqMoH-VEA9D"
      },
      "source": [
        "#Don't need to type this\n",
        "\n",
        "mtcars_sample.loc[[\"Mazda RX4\", \"Fiat 128\"], :]"
      ],
      "execution_count": null,
      "outputs": []
    },
    {
      "cell_type": "code",
      "metadata": {
        "id": "PUSL8oQTEDrx"
      },
      "source": [
        "#Don't need to type this\n",
        "\n",
        "mtcars_sample[mtcars_sample['cyl'].isin([6,])]"
      ],
      "execution_count": null,
      "outputs": []
    },
    {
      "cell_type": "markdown",
      "metadata": {
        "id": "o9V64UqYEcyZ"
      },
      "source": [
        "###PAUSE: 3rd Quiz of the Day = Filtering Health Data \n",
        "\n",
        "---\n",
        "\n",
        "* Import the Singapore Health Expenditure dataset\n",
        "from https://raw.githubusercontent.com/tertiarycourses/datasets/master/government-health-expenditure.csv\n",
        "\n",
        "* Retrieve all the data where operating expenditure\n",
        "data >5000\n",
        "\n",
        "* Retrieve all the data where operating expenditure\n",
        "data is between 5000 and 8000"
      ]
    },
    {
      "cell_type": "code",
      "metadata": {
        "id": "-n27iGpnFK0-"
      },
      "source": [
        "#Type this\n",
        "\n",
        "health_expenditure_sample[health_expenditure_sample.operating_expenditure>5000]"
      ],
      "execution_count": null,
      "outputs": []
    },
    {
      "cell_type": "code",
      "metadata": {
        "id": "fZUI84y8FNGR"
      },
      "source": [
        "#Type this\n",
        "\n",
        "health_expenditure_sample[(health_expenditure_sample.operating_expenditure>5000) & (health_expenditure_sample.operating_expenditure<8000) ]"
      ],
      "execution_count": null,
      "outputs": []
    },
    {
      "cell_type": "markdown",
      "metadata": {
        "id": "FkaEdtirFUnD"
      },
      "source": [
        "##Topic 1 - Step 8: Data Cleansing via Dealing with Missing Data"
      ]
    },
    {
      "cell_type": "code",
      "metadata": {
        "id": "v7m_8oxdFxab"
      },
      "source": [
        "#Don't need to type this\n",
        "\n",
        "df = pd.DataFrame(np.random.randn(5, 3), index=['a', 'c', 'e', 'f',\n",
        "'h'],columns=['one', 'two', 'three'])\n",
        "\n",
        "df = df.reindex(['a', 'b', 'c', 'd', 'e', 'f', 'g', 'h'])\n",
        "df"
      ],
      "execution_count": null,
      "outputs": []
    },
    {
      "cell_type": "code",
      "metadata": {
        "id": "yO7DKb5BF1C8"
      },
      "source": [
        "#Don't need to type this\n",
        "\n",
        "df['one'].isnull()"
      ],
      "execution_count": null,
      "outputs": []
    },
    {
      "cell_type": "code",
      "metadata": {
        "id": "LdmXuLjmF62R"
      },
      "source": [
        "#Don't need to type this\n",
        "\n",
        " df.dropna()"
      ],
      "execution_count": null,
      "outputs": []
    },
    {
      "cell_type": "code",
      "metadata": {
        "id": "hqbpZBunF-ss"
      },
      "source": [
        "#Don't need to type this\n",
        "\n",
        " df.fillna(0)"
      ],
      "execution_count": null,
      "outputs": []
    },
    {
      "cell_type": "code",
      "metadata": {
        "id": "AlSBCvS4GCt9"
      },
      "source": [
        "#Don't need to type this\n",
        "\n",
        "df.fillna(method='pad')"
      ],
      "execution_count": null,
      "outputs": []
    },
    {
      "cell_type": "code",
      "metadata": {
        "id": "7VxNF0F6GHGc"
      },
      "source": [
        "#Don't need to type this\n",
        "\n",
        "df.fillna(method='backfill')"
      ],
      "execution_count": null,
      "outputs": []
    },
    {
      "cell_type": "markdown",
      "metadata": {
        "id": "2EVnD1YiGW9w"
      },
      "source": [
        "###PAUSE: 4th Quiz of the Day = Dealing with Missing Data in the Health Dataset \n",
        "\n",
        "---\n",
        "\n",
        "* Import the Singapore Hospital Admission dataset\n",
        "from https://raw.githubusercontent.com/tertiarycourses/datasets/master/hospital-admissions-by-sector-annual.csv\n",
        "\n",
        "* Remove the missing data with 'na'"
      ]
    },
    {
      "cell_type": "code",
      "metadata": {
        "id": "cYP6QzT7HXF8"
      },
      "source": [
        "#Type this\n",
        "\n",
        "health_expenditure = pd.read_csv('https://raw.githubusercontent.com/tertiarycourses/datasets/master/hospital-admissions-by-sector-annual.csv')\n",
        "health_expenditure"
      ],
      "execution_count": null,
      "outputs": []
    },
    {
      "cell_type": "code",
      "metadata": {
        "id": "sHR3a87xHlJA"
      },
      "source": [
        "#Type this\n",
        "\n",
        "health_expenditure_NaN = health_expenditure.replace('na',np.NaN)\n",
        "health_expenditure_NaN"
      ],
      "execution_count": null,
      "outputs": []
    },
    {
      "cell_type": "code",
      "metadata": {
        "id": "D6nSasDEHpxg"
      },
      "source": [
        "#Type this\n",
        "\n",
        "#health_expenditure_na = health_expenditure.dropna()\n",
        "health_expenditure_NaN.isnull().values.sum()"
      ],
      "execution_count": null,
      "outputs": []
    },
    {
      "cell_type": "code",
      "metadata": {
        "id": "DabfLs6EHtN1"
      },
      "source": [
        "#Type this\n",
        "\n",
        "health_expenditure_dropna = health_expenditure_NaN.dropna()\n",
        "health_expenditure_dropna"
      ],
      "execution_count": null,
      "outputs": []
    },
    {
      "cell_type": "code",
      "metadata": {
        "id": "e-uoOvenHwS6"
      },
      "source": [
        "#Type this\n",
        "\n",
        "health_expenditure_dropna.isnull().values.sum()"
      ],
      "execution_count": null,
      "outputs": []
    },
    {
      "cell_type": "markdown",
      "metadata": {
        "id": "ZUgT-GNj5vtw"
      },
      "source": [
        "#Topic 2: Data Transformation\n",
        "\n",
        "---\n",
        "\n",
        "\n",
        "\n",
        "- Step 1a: Learning to Join Data\n",
        "\n",
        "PAUSE: 5th Quiz of the Day = Joining Air Quality Data\n",
        "\n",
        "- Step 1b: Learning to Append Data\n",
        "\n",
        "- Step 2: Learning to Merge Data\n",
        "\n",
        "PAUSE: 6th Quiz of the Day = Merging Air Quality Data\n",
        "\n",
        "- Step 3: Learning to Sort Data\n",
        "\n",
        "- Step 4: Learning to use the Groupby function\n",
        "\n",
        "PAUSE: 7th Quiz of the Day = Groupby the Long Term Care Dataset\n",
        "\n",
        "- Step 5: Learning how to Pivot Data\n",
        "\n",
        "PAUSE: 8th Quiz of the Day = Pivoting the Long Term Care Dataset"
      ]
    },
    {
      "cell_type": "markdown",
      "metadata": {
        "id": "6dmwPBkAH5ET"
      },
      "source": [
        "##Topic 2 - Step 1a: Learning to Join Data\n",
        "\n",
        "---\n",
        "\n"
      ]
    },
    {
      "cell_type": "code",
      "metadata": {
        "id": "SUzbuHomtevy"
      },
      "source": [
        "#Don't need to type this\n",
        "\n",
        "merc = [c for c in mtcars_sample.index if 'Merc' in c]\n",
        "merc_cars = mtcars_sample.loc[merc]\n",
        "merc_cars"
      ],
      "execution_count": null,
      "outputs": []
    },
    {
      "cell_type": "code",
      "metadata": {
        "id": "oI_z77AatlxL"
      },
      "source": [
        "#Don't type this\n",
        "\n",
        "toyota = [c for c in mtcars_sample.index if 'Toyota' in c]\n",
        "toyota_cars = mtcars_sample.loc[toyota]\n",
        "toyota_cars"
      ],
      "execution_count": null,
      "outputs": []
    },
    {
      "cell_type": "code",
      "metadata": {
        "id": "DqL2DkeXto1e"
      },
      "source": [
        "#Don't type this\n",
        "\n",
        "merc_toyota_cars = pd.concat([merc_cars, toyota_cars], axis=0)\n",
        "merc_toyota_cars"
      ],
      "execution_count": null,
      "outputs": []
    },
    {
      "cell_type": "code",
      "metadata": {
        "id": "taGypQHvtuYY"
      },
      "source": [
        "#Don't type this\n",
        "\n",
        "print('Shape of the  toyota_cars: ', toyota_cars.shape)\n",
        "print('Shape of the  merc_cars: ', merc_cars.shape)\n",
        "print('Shape of the resulting merc_toyota_cars: ', merc_toyota_cars.shape)"
      ],
      "execution_count": null,
      "outputs": []
    },
    {
      "cell_type": "markdown",
      "metadata": {
        "id": "ZA2QT7A6If4-"
      },
      "source": [
        "###PAUSE: 5th Quiz of the Day = Joining Air Quality Data\n",
        "\n",
        "---\n",
        "\n",
        "* Import the air quality and pm2.5 data as follows:\n",
        "\n",
        ">* air_quality_no2 = pd.read_csv(\"https://raw.githubusercontent.com/pandas-dev/pandas/master/doc/data/air_quality_no2_long.csv\")\n",
        "\n",
        ">* air_quality_no2 = air_quality_no2[[\"date.utc\", \"location\",\"parameter\", \"value\"]]\n",
        "\n",
        ">* air_quality_pm25 =\n",
        "pd.read_csv(\"https://raw.githubusercontent.com/pandas-dev/pandas/master/doc/data/air_quality_pm25_long.csv\")\n",
        "\n",
        ">* air_quality_pm25 = air_quality_pm25[[\"date.utc\", \"location\",\"parameter\", \"value\"]]\n",
        "\n",
        "* Join the two datasets row wise."
      ]
    },
    {
      "cell_type": "code",
      "metadata": {
        "id": "jz7VWwAft3UT"
      },
      "source": [
        "#Type this\n",
        "\n",
        "air_quality_no2 = pd.read_csv(\"https://raw.githubusercontent.com/pandas-dev/pandas/master/doc/data/air_quality_no2_long.csv\")\n",
        "air_quality_no2 = air_quality_no2[[\"date.utc\", \"location\",\"parameter\", \"value\"]]\n",
        "air_quality_no2.head()"
      ],
      "execution_count": null,
      "outputs": []
    },
    {
      "cell_type": "code",
      "metadata": {
        "id": "6SPHKESEt8fh"
      },
      "source": [
        "#Type this\n",
        "\n",
        "air_quality_pm25 = pd.read_csv(\"https://raw.githubusercontent.com/pandas-dev/pandas/master/doc/data/air_quality_pm25_long.csv\")\n",
        "air_quality_pm25 = air_quality_pm25[[\"date.utc\", \"location\",\"parameter\", \"value\"]]\n",
        "air_quality_pm25.head()"
      ],
      "execution_count": null,
      "outputs": []
    },
    {
      "cell_type": "code",
      "metadata": {
        "id": "aiFjTvxHuDVm"
      },
      "source": [
        "#Type this\n",
        "\n",
        "air_quality = pd.concat([air_quality_pm25, air_quality_no2], axis=0)\n",
        "air_quality.head()"
      ],
      "execution_count": null,
      "outputs": []
    },
    {
      "cell_type": "code",
      "metadata": {
        "id": "LARsJh6puGnf"
      },
      "source": [
        "#Type this\n",
        "\n",
        "print('Shape of the `air_quality_pm25` table: ', air_quality_pm25.shape)\n",
        "print('Shape of the `air_quality_no2` table: ', air_quality_no2.shape)\n",
        "print('Shape of the resulting `air_quality` table: ', air_quality.shape)"
      ],
      "execution_count": null,
      "outputs": []
    },
    {
      "cell_type": "markdown",
      "metadata": {
        "id": "APE1ru-dJBto"
      },
      "source": [
        "## Topic 2 - Step 1b: Learning to Append Data\n",
        "\n",
        "---"
      ]
    },
    {
      "cell_type": "code",
      "metadata": {
        "id": "Mkmlkoc0uMwK"
      },
      "source": [
        "#Don't type this\n",
        "\n",
        "toyota_merc_cars2= toyota_cars.append(merc_cars)\n",
        "toyota_merc_cars2"
      ],
      "execution_count": null,
      "outputs": []
    },
    {
      "cell_type": "markdown",
      "metadata": {
        "id": "U0mjCsgZJII1"
      },
      "source": [
        "## Topic 2 - Step 2: Learning to Merge Data\n",
        "\n",
        "---"
      ]
    },
    {
      "cell_type": "code",
      "metadata": {
        "id": "98zaGtoouSXP"
      },
      "source": [
        "#Don't type this\n",
        "\n",
        "left = pd.DataFrame({'key': ['K0', 'K1', 'K2', 'K3'],\n",
        "                     'A': ['A0', 'A1', 'A2', 'A3'],\n",
        "                     'B': ['B0', 'B1', 'B2', 'B3']})\n",
        "left"
      ],
      "execution_count": null,
      "outputs": []
    },
    {
      "cell_type": "code",
      "metadata": {
        "id": "tg7jYO_cuT-x"
      },
      "source": [
        "#Don't type this\n",
        "\n",
        "right = pd.DataFrame({'key': ['K0', 'K1', 'K2', 'K4'],\n",
        "                      'C': ['C0', 'C1', 'C2', 'C4'],\n",
        "                      'D': ['D0', 'D1', 'D2', 'D4']})\n",
        "right"
      ],
      "execution_count": null,
      "outputs": []
    },
    {
      "cell_type": "code",
      "metadata": {
        "id": "Etm76sZluXn9"
      },
      "source": [
        "#Don't type this\n",
        "\n",
        "result = pd.merge(left, right, on='key')\n",
        "result"
      ],
      "execution_count": null,
      "outputs": []
    },
    {
      "cell_type": "code",
      "metadata": {
        "id": "Pgb2LITYuey1"
      },
      "source": [
        "#Don't type this\n",
        "\n",
        "result = pd.merge(left, right, on='key',how='inner')\n",
        "result"
      ],
      "execution_count": null,
      "outputs": []
    },
    {
      "cell_type": "code",
      "metadata": {
        "id": "wsEof8w9uifz"
      },
      "source": [
        "#Don't type this\n",
        "\n",
        "result = pd.merge(left, right, on='key',how='outer')\n",
        "result"
      ],
      "execution_count": null,
      "outputs": []
    },
    {
      "cell_type": "code",
      "metadata": {
        "id": "pUT-_IXzukX1"
      },
      "source": [
        "#Don't type this\n",
        "\n",
        "result = pd.merge(left, right, on='key',how='left')\n",
        "result"
      ],
      "execution_count": null,
      "outputs": []
    },
    {
      "cell_type": "code",
      "metadata": {
        "id": "qMr4rqHLun1A"
      },
      "source": [
        "#Don't type this\n",
        "\n",
        "result = pd.merge(left, right, on='key',how='right')\n",
        "result"
      ],
      "execution_count": null,
      "outputs": []
    },
    {
      "cell_type": "markdown",
      "metadata": {
        "id": "z9GN3zF_JOfH"
      },
      "source": [
        "###PAUSE: 6th Quiz of the Day = Merging Air Quality Data\n",
        "\n",
        "---\n",
        "\n",
        "* Merge air quality and pm 2.5 data using inner join\n",
        ">* based on location\n",
        ">* based on date"
      ]
    },
    {
      "cell_type": "code",
      "metadata": {
        "id": "1tcmFfXGuuHz"
      },
      "source": [
        "#Type this\n",
        "\n",
        "air_quality = pd.merge(air_quality_pm25, air_quality_no2, on='location')\n",
        "air_quality.head()"
      ],
      "execution_count": null,
      "outputs": []
    },
    {
      "cell_type": "code",
      "metadata": {
        "id": "ZtjnKnrLuv4f"
      },
      "source": [
        "#Type this\n",
        "\n",
        "air_quality = pd.merge(air_quality_pm25, air_quality_no2, on='date.utc')\n",
        "air_quality.head()"
      ],
      "execution_count": null,
      "outputs": []
    },
    {
      "cell_type": "markdown",
      "metadata": {
        "id": "1j4Bg1xUJT7A"
      },
      "source": [
        "##Topic 2 - Step 3: Learning to Sort Data\n",
        "\n",
        "---"
      ]
    },
    {
      "cell_type": "code",
      "metadata": {
        "id": "yGVS9gN9u79n"
      },
      "source": [
        "#Don't type this\n",
        "\n",
        "mtcars_sample.sort_values(by=\"cyl\",ascending=False)"
      ],
      "execution_count": null,
      "outputs": []
    },
    {
      "cell_type": "markdown",
      "metadata": {
        "id": "xKlm4gXBJZsg"
      },
      "source": [
        "##Topic 2 - Step 4: Learning to use the Groupby function\n",
        "\n",
        "---"
      ]
    },
    {
      "cell_type": "code",
      "metadata": {
        "id": "Uq3asmwqvUki"
      },
      "source": [
        "#Don't type this\n",
        "\n",
        "mtcars_sample.groupby(['cyl']).mean()"
      ],
      "execution_count": null,
      "outputs": []
    },
    {
      "cell_type": "code",
      "metadata": {
        "id": "Oj4E2_akvXo_"
      },
      "source": [
        "#Don't type this\n",
        "\n",
        "mtcars_sample.groupby('cyl').hp.mean()"
      ],
      "execution_count": null,
      "outputs": []
    },
    {
      "cell_type": "code",
      "metadata": {
        "id": "8pNCP0bsvbnW"
      },
      "source": [
        "#Don't type this\n",
        "\n",
        "mtcars_sample.groupby(['cyl']).sum()"
      ],
      "execution_count": null,
      "outputs": []
    },
    {
      "cell_type": "code",
      "metadata": {
        "id": "wYMaGFFMveeH"
      },
      "source": [
        "#Don't type this\n",
        "\n",
        "mtcars_sample.groupby(['cyl']).agg(['mean', 'count'])"
      ],
      "execution_count": null,
      "outputs": []
    },
    {
      "cell_type": "code",
      "metadata": {
        "id": "t-gjnIfqvhY2"
      },
      "source": [
        "#Don't type this\n",
        "\n",
        "mtcars_sample.groupby(['cyl','am']).mean()"
      ],
      "execution_count": null,
      "outputs": []
    },
    {
      "cell_type": "code",
      "metadata": {
        "id": "nobD84fQvkaI"
      },
      "source": [
        "#Don't type this\n",
        "\n",
        "mtcars_sample.groupby('cyl').agg(lambda x:max(x)-min(x))"
      ],
      "execution_count": null,
      "outputs": []
    },
    {
      "cell_type": "code",
      "metadata": {
        "id": "zPxAEbjDvnOQ"
      },
      "source": [
        "#Don't type this\n",
        "\n",
        "mtcars_sample.groupby(['cyl', 'am']).agg(['mean', 'count'])"
      ],
      "execution_count": null,
      "outputs": []
    },
    {
      "cell_type": "markdown",
      "metadata": {
        "id": "A83V2H8gJgWy"
      },
      "source": [
        "###PAUSE: 7th Quiz of the Day = Groupby the Long Term Care Dataset\n",
        "\n",
        "---\n",
        "\n",
        "* Import the Singapore long term care facilities\n",
        "data https://raw.githubusercontent.com/tertiarycourses/datasets/master/number-of-residential-long-term-care-facilities-sector-breakdown.csv\n",
        "\n",
        "* Compute the total number of long term care facilities breakdown by year and sector using Group By method"
      ]
    },
    {
      "cell_type": "code",
      "metadata": {
        "id": "FiLnopecvrTq"
      },
      "source": [
        "#Type this\n",
        "\n",
        "long_term_care = pd.read_csv('https://raw.githubusercontent.com/tertiarycourses/datasets/master/number-of-residential-long-term-care-facilities-sector-breakdown.csv',)\n",
        "long_term_care.head()"
      ],
      "execution_count": null,
      "outputs": []
    },
    {
      "cell_type": "code",
      "metadata": {
        "id": "fwI2UTTTvwKR"
      },
      "source": [
        "#Type this\n",
        "\n",
        "long_term_care_by_sector = long_term_care.groupby(['year','sector']).sum()\n",
        "long_term_care_by_sector"
      ],
      "execution_count": null,
      "outputs": []
    },
    {
      "cell_type": "markdown",
      "metadata": {
        "id": "JNu4K_QUJhfq"
      },
      "source": [
        "##Topic 2 - Step 5: Learning how to Pivot Data\n",
        "\n",
        "---"
      ]
    },
    {
      "cell_type": "code",
      "metadata": {
        "id": "qOqH7vZTv2O7"
      },
      "source": [
        "#Don't type this\n",
        "\n",
        "mtcars_sample.pivot(columns='cyl',values='hp')"
      ],
      "execution_count": null,
      "outputs": []
    },
    {
      "cell_type": "code",
      "metadata": {
        "id": "rxroy5XMv-cb"
      },
      "source": [
        "#Don't type this\n",
        "\n",
        "mtcars_sample.pivot(columns='cyl',values='hp').mean()"
      ],
      "execution_count": null,
      "outputs": []
    },
    {
      "cell_type": "code",
      "metadata": {
        "id": "SLKKpwwqwBNf"
      },
      "source": [
        "#Don't type this\n",
        "\n",
        "mtcars_sample.pivot_table(index='cyl',columns='am', values='hp',aggfunc='mean')"
      ],
      "execution_count": null,
      "outputs": []
    },
    {
      "cell_type": "markdown",
      "metadata": {
        "id": "vA5rV9vMJsJw"
      },
      "source": [
        "###PAUSE: 8th Quiz of the Day = Pivoting the Long Term Care Dataset\n",
        "\n",
        "---\n",
        "\n",
        "* Import the Singapore long term care facilities\n",
        "data https://raw.githubusercontent.com/tertiarycourses/datasets/master/number-of-residential-long-term-care-facilities-sector-breakdown.csv\n",
        "\n",
        "* Compute the total number of long term care facilities breakdown by year and sector using Pivot Table method"
      ]
    },
    {
      "cell_type": "code",
      "metadata": {
        "id": "eXfCRA884Tit"
      },
      "source": [
        "#Type this\n",
        "\n",
        "long_term_care = pd.read_csv('https://raw.githubusercontent.com/tertiarycourses/datasets/master/number-of-residential-long-term-care-facilities-sector-breakdown.csv')\n",
        "long_term_care"
      ],
      "execution_count": null,
      "outputs": []
    },
    {
      "cell_type": "code",
      "metadata": {
        "id": "5th5ejQm4WID"
      },
      "source": [
        "#Type this\n",
        "\n",
        "long_term_care.pivot(columns='sector',values='count').sum()"
      ],
      "execution_count": null,
      "outputs": []
    },
    {
      "cell_type": "code",
      "metadata": {
        "id": "uPc4KdWm4amb"
      },
      "source": [
        "#Type this\n",
        "\n",
        "long_term_care.pivot_table(index=['year','sector'],values='count',aggfunc='sum')"
      ],
      "execution_count": null,
      "outputs": []
    },
    {
      "cell_type": "markdown",
      "metadata": {
        "id": "6BI0I5KJ7sx4"
      },
      "source": [
        "#Topic 3: Data Visualization\n",
        "\n",
        "---\n",
        "\n",
        "\n",
        "\n",
        "- Step 1: Learning to Plot a Dataframe\n",
        "\n",
        "PAUSE: 9th Quiz of the Day = Plotting the Health Dataframe\n",
        "\n",
        "- Step 2a: Learning to do a Scatter Plot\n",
        "- Step 2b: Learning to do a Bar Plot\n",
        "- Step 2c: Learning to do a Box Plot\n",
        "- Step 2d: Learning to do a Area Plot\n",
        "- Step 2e: Learning to do a Histogram\n",
        "\n",
        "PAUSE: 10th Quiz of the Day = Doing a Horizontal Bar Plot for the Long Term Care Data\n",
        "\n",
        "- Step 3: Learning to do a Sub Plot\n",
        "\n",
        "PAUSE: 11th Quiz of the Day = Doing a Sub Plot for the Health Data\n",
        "\n",
        "- Step 4: Using Matplotlib to do a Scatter Plot\n",
        "- Step 5: Using Seaborn to do a Heatmap\n",
        "- Step 6: Using Seaborn to do a Linear Regression\n"
      ]
    },
    {
      "cell_type": "markdown",
      "metadata": {
        "id": "nluzGMq24pEF"
      },
      "source": [
        "##Topic 3 - Step 1: Learning to Plot a Dataframe\n",
        "---"
      ]
    },
    {
      "cell_type": "code",
      "metadata": {
        "id": "eHNF3__Teij-"
      },
      "source": [
        "#Don't type this\n",
        "\n",
        "mtcars_sample.plot()"
      ],
      "execution_count": null,
      "outputs": []
    },
    {
      "cell_type": "code",
      "metadata": {
        "id": "MP61C_4CemuF"
      },
      "source": [
        "#Don't type this\n",
        "\n",
        "mtcars_sample['hp'].plot()"
      ],
      "execution_count": null,
      "outputs": []
    },
    {
      "cell_type": "markdown",
      "metadata": {
        "id": "yYUPQVz25Sde"
      },
      "source": [
        "###PAUSE: 9th Quiz of the Day = Plotting the Health Dataframe\n",
        "---\n",
        "\n",
        "* Plot the Singapore healthcare expenditure over the\n",
        "year"
      ]
    },
    {
      "cell_type": "code",
      "metadata": {
        "id": "LebAqBp5ewJt"
      },
      "source": [
        "#Type this\n",
        "\n",
        "health_expenditure_sample.plot()"
      ],
      "execution_count": null,
      "outputs": []
    },
    {
      "cell_type": "markdown",
      "metadata": {
        "id": "WHovLHbT5Za0"
      },
      "source": [
        "##Topic 3 - Step 2a: Learning to do a Scatter Plot\n",
        "---\n"
      ]
    },
    {
      "cell_type": "code",
      "metadata": {
        "id": "7i6t3Bfpe02W"
      },
      "source": [
        "#Don't type this\n",
        "\n",
        "mtcars_sample.plot.scatter(x=\"hp\", y=\"mpg\",alpha=0.5)"
      ],
      "execution_count": null,
      "outputs": []
    },
    {
      "cell_type": "code",
      "metadata": {
        "id": "LCmSGvBue5np"
      },
      "source": [
        "#Don't type this\n",
        "\n",
        "mtcars_sample.plot.scatter(x=\"hp\", y=\"mpg\",alpha=0.5)\n",
        "plt.xlabel(\"hp\")\n",
        "plt.ylabel(\"mpg\")\n",
        "plt.title(\"hp vs mpg\")"
      ],
      "execution_count": null,
      "outputs": []
    },
    {
      "cell_type": "markdown",
      "metadata": {
        "id": "McYcqTHZ5bxb"
      },
      "source": [
        "##Topic 3 - Step 2b: Learning to do a Bar Plot\n",
        "---\n"
      ]
    },
    {
      "cell_type": "code",
      "metadata": {
        "id": "ObWKwdqafBIU"
      },
      "source": [
        "#Don't type this\n",
        "\n",
        "mtcars_sample.pivot(columns='cyl',values='hp').mean().plot.bar()"
      ],
      "execution_count": null,
      "outputs": []
    },
    {
      "cell_type": "code",
      "metadata": {
        "id": "A34iMaiafsj9"
      },
      "source": [
        "#Don't type this\n",
        "\n",
        "mtcars_sample.pivot(columns='cyl',values='hp').mean().plot.bar(color='red')"
      ],
      "execution_count": null,
      "outputs": []
    },
    {
      "cell_type": "code",
      "metadata": {
        "id": "DDetrH1RfxFr"
      },
      "source": [
        "#Don't type this\n",
        "\n",
        "mtcars_cyl= mtcars_sample.pivot(columns='cyl',values='hp').mean().plot(kind='bar',color='red')"
      ],
      "execution_count": null,
      "outputs": []
    },
    {
      "cell_type": "code",
      "metadata": {
        "id": "UfwC2deWf0bO"
      },
      "source": [
        "#Don't type this\n",
        "\n",
        "mtcars_cyl= mtcars_sample.pivot(columns='cyl',values='hp').mean().plot.barh()"
      ],
      "execution_count": null,
      "outputs": []
    },
    {
      "cell_type": "code",
      "metadata": {
        "id": "JRBquycOf42E"
      },
      "source": [
        "#Don't type this\n",
        "\n",
        "mtcars_sample.pivot_table(index='am',columns='cyl',values='mpg',aggfunc=['mean']).plot.bar()"
      ],
      "execution_count": null,
      "outputs": []
    },
    {
      "cell_type": "code",
      "metadata": {
        "id": "SRv2RG-Jf8Lk"
      },
      "source": [
        "#Don't type this\n",
        "\n",
        "mtcars_sample.groupby(['am','cyl']).mean().plot.bar(stacked=True)"
      ],
      "execution_count": null,
      "outputs": []
    },
    {
      "cell_type": "markdown",
      "metadata": {
        "id": "DzPbneohgEFL"
      },
      "source": [
        "##Topic 3 - Step 2c: Learning to do a Pie Plot\n",
        "---\n"
      ]
    },
    {
      "cell_type": "code",
      "metadata": {
        "id": "PvATs7JpgK5e"
      },
      "source": [
        "#Don't type this\n",
        "\n",
        "mtcars_cyl= mtcars_sample.pivot(columns='cyl',values='hp').mean().plot.pie()"
      ],
      "execution_count": null,
      "outputs": []
    },
    {
      "cell_type": "markdown",
      "metadata": {
        "id": "KM8qtuTg5dli"
      },
      "source": [
        "##Topic 3 - Step 2d: Learning to do a Box Plot\n",
        "---\n"
      ]
    },
    {
      "cell_type": "code",
      "metadata": {
        "id": "TV58MHmJgPAP"
      },
      "source": [
        "#Don't type this\n",
        "\n",
        "mtcars_cyl= mtcars_sample.pivot(columns='cyl',values='hp').plot.box()"
      ],
      "execution_count": null,
      "outputs": []
    },
    {
      "cell_type": "markdown",
      "metadata": {
        "id": "VOL04YPo5fIT"
      },
      "source": [
        "##Topic 3 - Step 2e: Learning to do a Area Plot\n",
        "---\n"
      ]
    },
    {
      "cell_type": "code",
      "metadata": {
        "id": "XoVR0fGygXUO"
      },
      "source": [
        "#Don't type this\n",
        "\n",
        "mtcars_sample2 = mtcars_sample[['cyl','mpg','hp']]\n",
        "mtcars_sample2.groupby(['cyl']).mean().plot.area()"
      ],
      "execution_count": null,
      "outputs": []
    },
    {
      "cell_type": "markdown",
      "metadata": {
        "id": "BOa5pls25gyp"
      },
      "source": [
        "##Topic 3 - Step 2f: Learning to do a Histogram\n",
        "---\n"
      ]
    },
    {
      "cell_type": "code",
      "metadata": {
        "id": "EyNWB8mQgbRY"
      },
      "source": [
        "#Don't type this\n",
        "\n",
        "mtcars_sample.mpg.plot.hist(bins=15)"
      ],
      "execution_count": null,
      "outputs": []
    },
    {
      "cell_type": "markdown",
      "metadata": {
        "id": "QVmF8BjJ5iok"
      },
      "source": [
        "###PAUSE: 10th Quiz of the Day = Doing a Horizontal Bar Plot for the Long Term Care Data\n",
        "---\n",
        "\n",
        "* Import the Singapore long term care facilities\n",
        "data https://raw.githubusercontent.com/tertiarycourses/datasets/master/number-of-residential-long-term-care-facilities-sector-breakdown.csv\n",
        "\n",
        "* Create a horizontal bar plot of the total long\n",
        "term care facilities by the sector\n"
      ]
    },
    {
      "cell_type": "code",
      "metadata": {
        "id": "qP-vPCXhghgn"
      },
      "source": [
        "#Type this\n",
        "\n",
        "long_term_care.pivot(columns='sector',values='count').sum().plot.barh()"
      ],
      "execution_count": null,
      "outputs": []
    },
    {
      "cell_type": "markdown",
      "metadata": {
        "id": "KPtHnoZX5kMj"
      },
      "source": [
        "##Topic 3 - Step 3: Learning to do a Sub Plot\n",
        "---\n"
      ]
    },
    {
      "cell_type": "code",
      "metadata": {
        "id": "rFfwgwxygmOh"
      },
      "source": [
        "#Don't type this\n",
        "\n",
        "mtcars_sample.groupby('cyl').mean().plot(subplots=True)"
      ],
      "execution_count": null,
      "outputs": []
    },
    {
      "cell_type": "markdown",
      "metadata": {
        "id": "h1B2WXMa5mAc"
      },
      "source": [
        "###PAUSE: 11th Quiz of the Day = Doing a Sub Plot for the Health Data\n",
        "---\n",
        "\n",
        "* Import the Singapore Health Expenditure dataset\n",
        "from https://raw.githubusercontent.com/tertiarycourses/datasets/master/government-health-expenditure.csv\n",
        "\n",
        "* Create 3 subplots for each expenditure."
      ]
    },
    {
      "cell_type": "code",
      "metadata": {
        "id": "XWLP-NQqgqD8"
      },
      "source": [
        "#Type this\n",
        "\n",
        "health_expenditure_sample.plot(subplots=True)"
      ],
      "execution_count": null,
      "outputs": []
    },
    {
      "cell_type": "markdown",
      "metadata": {
        "id": "Yo6WlRLP5nh9"
      },
      "source": [
        "##Topic 3 - Step 4: Using Matplotlib to do a Scatter Plot\n",
        "---\n"
      ]
    },
    {
      "cell_type": "code",
      "metadata": {
        "id": "7LFZkovjguQx"
      },
      "source": [
        "#Don't type this\n",
        "\n",
        "plt.scatter(x=\"hp\", y=\"mpg\", data=mtcars_sample,color='red')\n",
        "plt.xlabel('hp')\n",
        "plt.ylabel('mpg')\n",
        "plt.title('hp vs mpg')"
      ],
      "execution_count": null,
      "outputs": []
    },
    {
      "cell_type": "markdown",
      "metadata": {
        "id": "uKom1-ee5pH_"
      },
      "source": [
        "##Topic 3 - Step 5: Using Seaborn to do a Heatmap\n",
        "---\n"
      ]
    },
    {
      "cell_type": "code",
      "metadata": {
        "id": "QJCWi1a3gyVQ"
      },
      "source": [
        "#Don't type this\n",
        "\n",
        "mtcars_cyl= mtcars_sample.groupby('cyl').mean()\n",
        "sb.heatmap(mtcars_cyl, annot=True)"
      ],
      "execution_count": null,
      "outputs": []
    },
    {
      "cell_type": "markdown",
      "metadata": {
        "id": "RgJElIdD5qqP"
      },
      "source": [
        "##Topic 3 - Step 6: Using Seaborn to do a Linear Regression\n",
        "---"
      ]
    },
    {
      "cell_type": "code",
      "metadata": {
        "id": "yHG3aJNvg2Ze"
      },
      "source": [
        "#Don't type this\n",
        "\n",
        "sb.lmplot(x=\"hp\", y=\"mpg\",data=mtcars_sample,fit_reg=True) "
      ],
      "execution_count": null,
      "outputs": []
    },
    {
      "cell_type": "markdown",
      "metadata": {
        "id": "dU5IPLBSmO87"
      },
      "source": [
        "# **#THE END OF DAY 1**"
      ]
    },
    {
      "cell_type": "markdown",
      "metadata": {
        "id": "aoLVWxnvJDqP"
      },
      "source": [
        "#The Data Science Process\n",
        "\n",
        "---\n",
        "\n",
        "\n",
        "- Topic 1: Data Preparation\n",
        "- Topic 2: Data Transformation\n",
        "- Topic 3: Data Visualization\n",
        "- Topic 4: Data Analysis\n",
        "- Topic 5: Advanced Data Analysis"
      ]
    },
    {
      "cell_type": "markdown",
      "metadata": {
        "id": "oqbli348DhjC"
      },
      "source": [
        "#Topic 4: Data Analysis \n",
        "\n",
        "---\n",
        "- Step 1: Learning about Descriptive Statistics\n",
        "-- median function\n",
        "-- describe function\n",
        "-- for Categorical Data\n",
        "\n",
        "- Step 2: Learning the Count Function\n",
        "\n",
        "PAUSE: 12th Quiz of the Day = Performing Descriptive Statistics for the Long Term Care Data\n",
        "\n",
        "- Step 3: Learning about Covariance and Correlation\n",
        "\n",
        "- Step 4: Performing Time Series Analysis on Air Quality Data\n",
        "\n",
        "- Step 5: Extracting Datetime Information out of the Air Quality Data\n",
        "\n",
        "- Step 6: Performing Time Series Plot \n",
        "\n",
        "- Step 7: Converting Date and Time to an Index and Plotting it\n",
        "\n",
        "- Step 8: Resampling a Time Series\n",
        "\n",
        "PAUSE: 13th Quiz of the Day = Performing a Time Series Analysis"
      ]
    },
    {
      "cell_type": "markdown",
      "metadata": {
        "id": "h476GGjvg7Iw"
      },
      "source": [
        "##Topic 4 - Step 1: Learning about Descriptive Statistics\n",
        "- median function\n",
        "- describe function\n",
        "- for Groupby Function\n",
        "---"
      ]
    },
    {
      "cell_type": "code",
      "metadata": {
        "id": "AqBchfG2JOXe"
      },
      "source": [
        "import numpy as np\n",
        "import matplotlib.pyplot as plt\n",
        "import seaborn as sb\n",
        "import pandas as pd\n",
        "import sklearn"
      ],
      "execution_count": null,
      "outputs": []
    },
    {
      "cell_type": "code",
      "metadata": {
        "id": "AWtCwMwfiXOG"
      },
      "source": [
        "#Median Function\n",
        "#Don't type this\n",
        "\n",
        "mtcars_sample[[\"mpg\", \"hp\"]].median()"
      ],
      "execution_count": null,
      "outputs": []
    },
    {
      "cell_type": "code",
      "metadata": {
        "id": "npzGq3aHiYvX"
      },
      "source": [
        "#Describe Function\n",
        "#Don't type this\n",
        "\n",
        "mtcars_sample[[\"mpg\", \"hp\"]].describe()"
      ],
      "execution_count": null,
      "outputs": []
    },
    {
      "cell_type": "code",
      "metadata": {
        "id": "lZtBDtWRileZ"
      },
      "source": [
        "#Groupby Function 1\n",
        "#Don't type this\n",
        "\n",
        "mtcars_sample.groupby('cyl').mpg.agg(['mean', 'median', 'max'])"
      ],
      "execution_count": null,
      "outputs": []
    },
    {
      "cell_type": "code",
      "metadata": {
        "id": "KMFy5o6xi1Sh"
      },
      "source": [
        "#Groupby Function 2\n",
        "#Don't type this\n",
        "\n",
        "mtcars_sample.groupby('cyl').mpg.describe()"
      ],
      "execution_count": null,
      "outputs": []
    },
    {
      "cell_type": "code",
      "metadata": {
        "id": "dQEVetRdi5Ye"
      },
      "source": [
        "#Groupby Function 3\n",
        "#Don't Type this\n",
        "\n",
        "mtcars_sample[[\"cyl\", \"mpg\"]].groupby(\"cyl\").mean()"
      ],
      "execution_count": null,
      "outputs": []
    },
    {
      "cell_type": "code",
      "metadata": {
        "id": "cMIhodbmi_IO"
      },
      "source": [
        "#Groupby Function 4\n",
        "#Don't type this\n",
        "\n",
        "mtcars_sample.groupby(\"cyl\")[\"mpg\"].mean()"
      ],
      "execution_count": null,
      "outputs": []
    },
    {
      "cell_type": "markdown",
      "metadata": {
        "id": "TwA904J1hc8U"
      },
      "source": [
        "##Topic 4 - Step 2: Learning the Count Function\n",
        "---"
      ]
    },
    {
      "cell_type": "code",
      "metadata": {
        "id": "zCoY41UgjEWY"
      },
      "source": [
        "#don't type this\n",
        "\n",
        "mtcars_sample[\"cyl\"].value_counts()"
      ],
      "execution_count": null,
      "outputs": []
    },
    {
      "cell_type": "markdown",
      "metadata": {
        "id": "oPBQzkRdhkod"
      },
      "source": [
        "###PAUSE: 12th Quiz of the Day = Performing Descriptive Statistics for the Long Term Care Data\n",
        "---\n",
        "\n",
        "* Open the long term care dataset\n",
        "* Categorize the three different sectors (not for profit / public / private)\n",
        "* And give the counts for each sector"
      ]
    },
    {
      "cell_type": "code",
      "metadata": {
        "id": "XLXFpRbSjI1e",
        "colab": {
          "base_uri": "https://localhost:8080/"
        },
        "outputId": "790ff952-183a-49e8-8a61-986857af0a5f"
      },
      "source": [
        "#Type this\n",
        "\n",
        "long_term_care = pd.read_csv('https://raw.githubusercontent.com/tertiarycourses/datasets/master/number-of-residential-long-term-care-facilities-sector-breakdown.csv',)\n",
        "long_term_care['sector'].value_counts()"
      ],
      "execution_count": null,
      "outputs": [
        {
          "output_type": "execute_result",
          "data": {
            "text/plain": [
              "Not-For-Profit    28\n",
              "Public            28\n",
              "Private           28\n",
              "Name: sector, dtype: int64"
            ]
          },
          "metadata": {},
          "execution_count": 148
        }
      ]
    },
    {
      "cell_type": "markdown",
      "metadata": {
        "id": "E72odOrBhrUq"
      },
      "source": [
        "##Topic 4 - Step 3: Learning about Covariance and Correlation\n",
        "---\n"
      ]
    },
    {
      "cell_type": "code",
      "metadata": {
        "id": "ptdGS5J1jNgV"
      },
      "source": [
        "#Covariance Example\n",
        "#Don't type this\n",
        "\n",
        "mtcars_sample.cov()"
      ],
      "execution_count": null,
      "outputs": []
    },
    {
      "cell_type": "code",
      "metadata": {
        "id": "8I5wke7OjPTc"
      },
      "source": [
        "#Correlation Exmaple\n",
        "#don't type this\n",
        "\n",
        "mtcars_sample.corr()"
      ],
      "execution_count": null,
      "outputs": []
    },
    {
      "cell_type": "markdown",
      "metadata": {
        "id": "VEtDhs0thuuK"
      },
      "source": [
        "##Topic 4 - Step 4: Converting Objects to Datetime Format from Air Quality Data\n",
        "---\n"
      ]
    },
    {
      "cell_type": "code",
      "metadata": {
        "id": "KioUn3jzj_Lx",
        "colab": {
          "base_uri": "https://localhost:8080/",
          "height": 203
        },
        "outputId": "482c9d80-a18c-4596-c5cb-3f5d1fda21f1"
      },
      "source": [
        "#Don't type this\n",
        "#Let's rename the column 'date.utc' to 'datetime'\n",
        "\n",
        "air_quality = pd.read_csv(\"https://raw.githubusercontent.com/pandas-dev/pandas/master/doc/data/air_quality_no2_long.csv\")\n",
        "air_quality = air_quality.rename(columns={\"date.utc\": \"datetime\"})\n",
        "air_quality.head()"
      ],
      "execution_count": null,
      "outputs": [
        {
          "output_type": "execute_result",
          "data": {
            "text/html": [
              "<div>\n",
              "<style scoped>\n",
              "    .dataframe tbody tr th:only-of-type {\n",
              "        vertical-align: middle;\n",
              "    }\n",
              "\n",
              "    .dataframe tbody tr th {\n",
              "        vertical-align: top;\n",
              "    }\n",
              "\n",
              "    .dataframe thead th {\n",
              "        text-align: right;\n",
              "    }\n",
              "</style>\n",
              "<table border=\"1\" class=\"dataframe\">\n",
              "  <thead>\n",
              "    <tr style=\"text-align: right;\">\n",
              "      <th></th>\n",
              "      <th>city</th>\n",
              "      <th>country</th>\n",
              "      <th>datetime</th>\n",
              "      <th>location</th>\n",
              "      <th>parameter</th>\n",
              "      <th>value</th>\n",
              "      <th>unit</th>\n",
              "    </tr>\n",
              "  </thead>\n",
              "  <tbody>\n",
              "    <tr>\n",
              "      <th>0</th>\n",
              "      <td>Paris</td>\n",
              "      <td>FR</td>\n",
              "      <td>2019-06-21 00:00:00+00:00</td>\n",
              "      <td>FR04014</td>\n",
              "      <td>no2</td>\n",
              "      <td>20.0</td>\n",
              "      <td>µg/m³</td>\n",
              "    </tr>\n",
              "    <tr>\n",
              "      <th>1</th>\n",
              "      <td>Paris</td>\n",
              "      <td>FR</td>\n",
              "      <td>2019-06-20 23:00:00+00:00</td>\n",
              "      <td>FR04014</td>\n",
              "      <td>no2</td>\n",
              "      <td>21.8</td>\n",
              "      <td>µg/m³</td>\n",
              "    </tr>\n",
              "    <tr>\n",
              "      <th>2</th>\n",
              "      <td>Paris</td>\n",
              "      <td>FR</td>\n",
              "      <td>2019-06-20 22:00:00+00:00</td>\n",
              "      <td>FR04014</td>\n",
              "      <td>no2</td>\n",
              "      <td>26.5</td>\n",
              "      <td>µg/m³</td>\n",
              "    </tr>\n",
              "    <tr>\n",
              "      <th>3</th>\n",
              "      <td>Paris</td>\n",
              "      <td>FR</td>\n",
              "      <td>2019-06-20 21:00:00+00:00</td>\n",
              "      <td>FR04014</td>\n",
              "      <td>no2</td>\n",
              "      <td>24.9</td>\n",
              "      <td>µg/m³</td>\n",
              "    </tr>\n",
              "    <tr>\n",
              "      <th>4</th>\n",
              "      <td>Paris</td>\n",
              "      <td>FR</td>\n",
              "      <td>2019-06-20 20:00:00+00:00</td>\n",
              "      <td>FR04014</td>\n",
              "      <td>no2</td>\n",
              "      <td>21.4</td>\n",
              "      <td>µg/m³</td>\n",
              "    </tr>\n",
              "  </tbody>\n",
              "</table>\n",
              "</div>"
            ],
            "text/plain": [
              "    city country                   datetime location parameter  value   unit\n",
              "0  Paris      FR  2019-06-21 00:00:00+00:00  FR04014       no2   20.0  µg/m³\n",
              "1  Paris      FR  2019-06-20 23:00:00+00:00  FR04014       no2   21.8  µg/m³\n",
              "2  Paris      FR  2019-06-20 22:00:00+00:00  FR04014       no2   26.5  µg/m³\n",
              "3  Paris      FR  2019-06-20 21:00:00+00:00  FR04014       no2   24.9  µg/m³\n",
              "4  Paris      FR  2019-06-20 20:00:00+00:00  FR04014       no2   21.4  µg/m³"
            ]
          },
          "metadata": {},
          "execution_count": 5
        }
      ]
    },
    {
      "cell_type": "code",
      "metadata": {
        "id": "nEEyUKv7kBmg",
        "colab": {
          "base_uri": "https://localhost:8080/"
        },
        "outputId": "9ec3515b-492f-4082-8260-7a89f1088bed"
      },
      "source": [
        "#Don't type this\n",
        "#Let's take a look at the various cities... notice that they are of the type \"object\"\n",
        "\n",
        "air_quality.city.unique()"
      ],
      "execution_count": null,
      "outputs": [
        {
          "output_type": "execute_result",
          "data": {
            "text/plain": [
              "array(['Paris', 'Antwerpen', 'London'], dtype=object)"
            ]
          },
          "metadata": {},
          "execution_count": 6
        }
      ]
    },
    {
      "cell_type": "code",
      "metadata": {
        "colab": {
          "base_uri": "https://localhost:8080/"
        },
        "id": "ygL9F6Do7Pqg",
        "outputId": "c155e72c-89dd-44d8-9139-fc7eca85c121"
      },
      "source": [
        "#notice that the 'datetime' column is also of the type 'object', which is unsuitable\n",
        "\n",
        "air_quality[\"datetime\"]"
      ],
      "execution_count": null,
      "outputs": [
        {
          "output_type": "execute_result",
          "data": {
            "text/plain": [
              "0       2019-06-21 00:00:00+00:00\n",
              "1       2019-06-20 23:00:00+00:00\n",
              "2       2019-06-20 22:00:00+00:00\n",
              "3       2019-06-20 21:00:00+00:00\n",
              "4       2019-06-20 20:00:00+00:00\n",
              "                  ...            \n",
              "2063    2019-05-07 06:00:00+00:00\n",
              "2064    2019-05-07 04:00:00+00:00\n",
              "2065    2019-05-07 03:00:00+00:00\n",
              "2066    2019-05-07 02:00:00+00:00\n",
              "2067    2019-05-07 01:00:00+00:00\n",
              "Name: datetime, Length: 2068, dtype: object"
            ]
          },
          "metadata": {},
          "execution_count": 7
        }
      ]
    },
    {
      "cell_type": "code",
      "metadata": {
        "id": "jjRyy1j3kFxI",
        "colab": {
          "base_uri": "https://localhost:8080/"
        },
        "outputId": "f552e1d5-d8ba-45f2-b82f-b8bec91e61ed"
      },
      "source": [
        "#don't type this\n",
        "#now let's convert 'datetime' to the real 'datetime' format \n",
        "\n",
        "air_quality[\"datetime\"] = pd.to_datetime(air_quality[\"datetime\"])\n",
        "air_quality[\"datetime\"]"
      ],
      "execution_count": null,
      "outputs": [
        {
          "output_type": "execute_result",
          "data": {
            "text/plain": [
              "0      2019-06-21 00:00:00+00:00\n",
              "1      2019-06-20 23:00:00+00:00\n",
              "2      2019-06-20 22:00:00+00:00\n",
              "3      2019-06-20 21:00:00+00:00\n",
              "4      2019-06-20 20:00:00+00:00\n",
              "                  ...           \n",
              "2063   2019-05-07 06:00:00+00:00\n",
              "2064   2019-05-07 04:00:00+00:00\n",
              "2065   2019-05-07 03:00:00+00:00\n",
              "2066   2019-05-07 02:00:00+00:00\n",
              "2067   2019-05-07 01:00:00+00:00\n",
              "Name: datetime, Length: 2068, dtype: datetime64[ns, UTC]"
            ]
          },
          "metadata": {},
          "execution_count": 8
        }
      ]
    },
    {
      "cell_type": "markdown",
      "metadata": {
        "id": "4G6dKm-Ihwj_"
      },
      "source": [
        "##Topic 4 - Step 5: Extracting Datetime Information out of the Air Quality Data\n",
        "---\n",
        "\n",
        "* now that the 'Datetime' column has been converted to the propert Datetime format, we can use .dt to do various operations on it... "
      ]
    },
    {
      "cell_type": "code",
      "metadata": {
        "id": "V2X0LmIikUdC",
        "colab": {
          "base_uri": "https://localhost:8080/"
        },
        "outputId": "a22c6d04-d9ce-43c9-b35e-64e3a58c16f6"
      },
      "source": [
        "#Don't type this\n",
        "\n",
        "air_quality[\"datetime\"].min(), air_quality[\"datetime\"].max()"
      ],
      "execution_count": null,
      "outputs": [
        {
          "output_type": "execute_result",
          "data": {
            "text/plain": [
              "(Timestamp('2019-05-07 01:00:00+0000', tz='UTC'),\n",
              " Timestamp('2019-06-21 00:00:00+0000', tz='UTC'))"
            ]
          },
          "metadata": {},
          "execution_count": 9
        }
      ]
    },
    {
      "cell_type": "code",
      "metadata": {
        "id": "yUncjLNKkZid",
        "colab": {
          "base_uri": "https://localhost:8080/"
        },
        "outputId": "c2dcb2ed-d758-4016-9965-f014ad9a7919"
      },
      "source": [
        "#Don't type this\n",
        "\n",
        "air_quality[\"datetime\"].max() - air_quality[\"datetime\"].min()"
      ],
      "execution_count": null,
      "outputs": [
        {
          "output_type": "execute_result",
          "data": {
            "text/plain": [
              "Timedelta('44 days 23:00:00')"
            ]
          },
          "metadata": {},
          "execution_count": 10
        }
      ]
    },
    {
      "cell_type": "code",
      "metadata": {
        "id": "qqK8fsdJkcjW"
      },
      "source": [
        "#Dno't type this\n",
        "\n",
        "air_quality[\"month\"] = air_quality[\"datetime\"].dt.month"
      ],
      "execution_count": null,
      "outputs": []
    },
    {
      "cell_type": "code",
      "metadata": {
        "id": "_9ZF2cAWkfdX",
        "colab": {
          "base_uri": "https://localhost:8080/",
          "height": 203
        },
        "outputId": "d49e3f70-a64a-4c82-cbb5-e3ec49672915"
      },
      "source": [
        "#don't type this\n",
        "\n",
        "air_quality.head()"
      ],
      "execution_count": null,
      "outputs": [
        {
          "output_type": "execute_result",
          "data": {
            "text/html": [
              "<div>\n",
              "<style scoped>\n",
              "    .dataframe tbody tr th:only-of-type {\n",
              "        vertical-align: middle;\n",
              "    }\n",
              "\n",
              "    .dataframe tbody tr th {\n",
              "        vertical-align: top;\n",
              "    }\n",
              "\n",
              "    .dataframe thead th {\n",
              "        text-align: right;\n",
              "    }\n",
              "</style>\n",
              "<table border=\"1\" class=\"dataframe\">\n",
              "  <thead>\n",
              "    <tr style=\"text-align: right;\">\n",
              "      <th></th>\n",
              "      <th>city</th>\n",
              "      <th>country</th>\n",
              "      <th>datetime</th>\n",
              "      <th>location</th>\n",
              "      <th>parameter</th>\n",
              "      <th>value</th>\n",
              "      <th>unit</th>\n",
              "      <th>month</th>\n",
              "    </tr>\n",
              "  </thead>\n",
              "  <tbody>\n",
              "    <tr>\n",
              "      <th>0</th>\n",
              "      <td>Paris</td>\n",
              "      <td>FR</td>\n",
              "      <td>2019-06-21 00:00:00+00:00</td>\n",
              "      <td>FR04014</td>\n",
              "      <td>no2</td>\n",
              "      <td>20.0</td>\n",
              "      <td>µg/m³</td>\n",
              "      <td>6</td>\n",
              "    </tr>\n",
              "    <tr>\n",
              "      <th>1</th>\n",
              "      <td>Paris</td>\n",
              "      <td>FR</td>\n",
              "      <td>2019-06-20 23:00:00+00:00</td>\n",
              "      <td>FR04014</td>\n",
              "      <td>no2</td>\n",
              "      <td>21.8</td>\n",
              "      <td>µg/m³</td>\n",
              "      <td>6</td>\n",
              "    </tr>\n",
              "    <tr>\n",
              "      <th>2</th>\n",
              "      <td>Paris</td>\n",
              "      <td>FR</td>\n",
              "      <td>2019-06-20 22:00:00+00:00</td>\n",
              "      <td>FR04014</td>\n",
              "      <td>no2</td>\n",
              "      <td>26.5</td>\n",
              "      <td>µg/m³</td>\n",
              "      <td>6</td>\n",
              "    </tr>\n",
              "    <tr>\n",
              "      <th>3</th>\n",
              "      <td>Paris</td>\n",
              "      <td>FR</td>\n",
              "      <td>2019-06-20 21:00:00+00:00</td>\n",
              "      <td>FR04014</td>\n",
              "      <td>no2</td>\n",
              "      <td>24.9</td>\n",
              "      <td>µg/m³</td>\n",
              "      <td>6</td>\n",
              "    </tr>\n",
              "    <tr>\n",
              "      <th>4</th>\n",
              "      <td>Paris</td>\n",
              "      <td>FR</td>\n",
              "      <td>2019-06-20 20:00:00+00:00</td>\n",
              "      <td>FR04014</td>\n",
              "      <td>no2</td>\n",
              "      <td>21.4</td>\n",
              "      <td>µg/m³</td>\n",
              "      <td>6</td>\n",
              "    </tr>\n",
              "  </tbody>\n",
              "</table>\n",
              "</div>"
            ],
            "text/plain": [
              "    city country                  datetime  ... value   unit  month\n",
              "0  Paris      FR 2019-06-21 00:00:00+00:00  ...  20.0  µg/m³      6\n",
              "1  Paris      FR 2019-06-20 23:00:00+00:00  ...  21.8  µg/m³      6\n",
              "2  Paris      FR 2019-06-20 22:00:00+00:00  ...  26.5  µg/m³      6\n",
              "3  Paris      FR 2019-06-20 21:00:00+00:00  ...  24.9  µg/m³      6\n",
              "4  Paris      FR 2019-06-20 20:00:00+00:00  ...  21.4  µg/m³      6\n",
              "\n",
              "[5 rows x 8 columns]"
            ]
          },
          "metadata": {},
          "execution_count": 12
        }
      ]
    },
    {
      "cell_type": "code",
      "metadata": {
        "id": "u8rtHTOmkinN",
        "colab": {
          "base_uri": "https://localhost:8080/"
        },
        "outputId": "b541fa4c-07c1-40f8-a0cc-8dc0908c9205"
      },
      "source": [
        "#don't type this\n",
        "\n",
        "air_quality.groupby([air_quality[\"datetime\"].dt.weekday, \"location\"])[\"value\"].mean()"
      ],
      "execution_count": null,
      "outputs": [
        {
          "output_type": "execute_result",
          "data": {
            "text/plain": [
              "datetime  location          \n",
              "0         BETR801               27.875000\n",
              "          FR04014               24.856250\n",
              "          London Westminster    23.969697\n",
              "1         BETR801               22.214286\n",
              "          FR04014               30.999359\n",
              "          London Westminster    24.885714\n",
              "2         BETR801               21.125000\n",
              "          FR04014               29.165753\n",
              "          London Westminster    23.460432\n",
              "3         BETR801               27.500000\n",
              "          FR04014               28.600690\n",
              "          London Westminster    24.780142\n",
              "4         BETR801               28.400000\n",
              "          FR04014               31.617986\n",
              "          London Westminster    26.446809\n",
              "5         BETR801               33.500000\n",
              "          FR04014               25.266154\n",
              "          London Westminster    24.977612\n",
              "6         BETR801               21.896552\n",
              "          FR04014               23.274306\n",
              "          London Westminster    24.859155\n",
              "Name: value, dtype: float64"
            ]
          },
          "metadata": {},
          "execution_count": 13
        }
      ]
    },
    {
      "cell_type": "markdown",
      "metadata": {
        "id": "GYniEhCshySi"
      },
      "source": [
        "##Topic 4 - Step 6: Performing Time Series Plot \n",
        "---\n"
      ]
    },
    {
      "cell_type": "code",
      "metadata": {
        "id": "8YIDC5ZGknLp"
      },
      "source": [
        "#Don't type this\n",
        "\n",
        "fig, axs = plt.subplots(figsize=(12, 4))\n",
        "air_quality.groupby(air_quality[\"datetime\"].dt.hour)[\"value\"].mean().plot(kind='bar',rot=0,ax=axs)\n",
        "plt.xlabel(\"Hour of the day\")\n",
        "plt.ylabel(\"$NO_2 (µg/m^3)$\")"
      ],
      "execution_count": null,
      "outputs": []
    },
    {
      "cell_type": "markdown",
      "metadata": {
        "id": "pRIwcBPOh0DS"
      },
      "source": [
        "##Topic 4 - Step 7: Converting Date and Time to an Index and Plotting it\n",
        "---\n"
      ]
    },
    {
      "cell_type": "code",
      "metadata": {
        "id": "wPcQh73ykuIa"
      },
      "source": [
        "#Don't type this\n",
        "\n",
        "no_2 = air_quality.pivot(index=\"datetime\", columns=\"location\", values=\"value\")\n",
        "no_2.head()"
      ],
      "execution_count": null,
      "outputs": []
    },
    {
      "cell_type": "code",
      "metadata": {
        "id": "aCFXmjfdkvyY"
      },
      "source": [
        "#Don't type this\n",
        "\n",
        "no_2[\"2019-05-20\":\"2019-05-21\"].plot()"
      ],
      "execution_count": null,
      "outputs": []
    },
    {
      "cell_type": "markdown",
      "metadata": {
        "id": "Az2uzCPEh1iu"
      },
      "source": [
        "##Topic 4 - Step 8: Resampling a Time Series\n",
        "---\n"
      ]
    },
    {
      "cell_type": "code",
      "metadata": {
        "id": "CLCIQ5Fzk1aR"
      },
      "source": [
        "#don't type this\n",
        "\n",
        "monthly_max = no_2.resample(\"M\").max()\n",
        "monthly_max"
      ],
      "execution_count": null,
      "outputs": []
    },
    {
      "cell_type": "code",
      "metadata": {
        "id": "kERHzPBQk3oL"
      },
      "source": [
        "#don't type this\n",
        "\n",
        "no_2.resample(\"D\").mean().plot(style=\"-o\", figsize=(10, 5));"
      ],
      "execution_count": null,
      "outputs": []
    },
    {
      "cell_type": "markdown",
      "metadata": {
        "id": "w6S2gYqjh3Mt"
      },
      "source": [
        "###PAUSE: 13th Quiz of the Day = Performing a Time Series Analysis\n",
        "---\n",
        "\n",
        "* Plot:\n",
        ">* x: 'year'\n",
        ">* y: 'No of long term care faciliteis'"
      ]
    },
    {
      "cell_type": "code",
      "metadata": {
        "id": "N_p4OEr3k7I7",
        "colab": {
          "base_uri": "https://localhost:8080/",
          "height": 297
        },
        "outputId": "44690596-09c4-42c4-deaf-2ee9ef132330"
      },
      "source": [
        "#Type this\n",
        "\n",
        "long_term_care_pivot = long_term_care.pivot(columns='year',values='count').sum()\n",
        "long_term_care_pivot.plot()\n",
        "plt.xlabel('year')\n",
        "plt.ylabel('No of long term care faciliteis')"
      ],
      "execution_count": null,
      "outputs": [
        {
          "output_type": "execute_result",
          "data": {
            "text/plain": [
              "Text(0, 0.5, 'No of long term care faciliteis')"
            ]
          },
          "metadata": {},
          "execution_count": 152
        },
        {
          "output_type": "display_data",
          "data": {
            "image/png": "[encoded data removed]",
            "text/plain": [
              "<Figure size 432x288 with 1 Axes>"
            ]
          },
          "metadata": {
            "needs_background": "light"
          }
        }
      ]
    },
    {
      "cell_type": "markdown",
      "metadata": {
        "id": "WpK7XPfuZJs-"
      },
      "source": [
        "# Topic 5 Advanced Data Analytics\n",
        "\n",
        "---\n",
        "\n",
        "* Topic 5a: Learning About Pipe\n",
        ">* PAUSE: 14th Quiz of the Day = Pipe\n",
        "\n",
        "* Topic 5b: Learning Apply\n",
        ">* PAUSE: 15th Quiz of the Day = Apply\n",
        "\n",
        "* Topic 5c: Learning about Linear Regression\n",
        ">* PAUSE: 16th Quiz of the Day = Linear Regression"
      ]
    },
    {
      "cell_type": "markdown",
      "metadata": {
        "id": "DdggqdNXIp0x"
      },
      "source": [
        "## Topic 5a: Learning About Pipe\n",
        "\n",
        "---\n",
        "\n"
      ]
    },
    {
      "cell_type": "code",
      "metadata": {
        "id": "F5O-XpI9Idw6"
      },
      "source": [
        "import pandas as pd\n",
        "\n",
        "def load_data():\n",
        "    return pd.read_csv('https://raw.githubusercontent.com/tertiarycourses/datasets/master/mtcars.csv',\n",
        "                          index_col='car_names',\n",
        "                          usecols=['car_names','mpg','hp','cyl','am'])\n",
        "    \n",
        "df = load_data()"
      ],
      "execution_count": null,
      "outputs": []
    },
    {
      "cell_type": "code",
      "metadata": {
        "colab": {
          "base_uri": "https://localhost:8080/",
          "height": 234
        },
        "id": "OkuK5pIaGv-l",
        "outputId": "fb665101-59fe-4049-f9c7-e4deec207907"
      },
      "source": [
        "df.head()"
      ],
      "execution_count": null,
      "outputs": [
        {
          "output_type": "execute_result",
          "data": {
            "text/html": [
              "<div>\n",
              "<style scoped>\n",
              "    .dataframe tbody tr th:only-of-type {\n",
              "        vertical-align: middle;\n",
              "    }\n",
              "\n",
              "    .dataframe tbody tr th {\n",
              "        vertical-align: top;\n",
              "    }\n",
              "\n",
              "    .dataframe thead th {\n",
              "        text-align: right;\n",
              "    }\n",
              "</style>\n",
              "<table border=\"1\" class=\"dataframe\">\n",
              "  <thead>\n",
              "    <tr style=\"text-align: right;\">\n",
              "      <th></th>\n",
              "      <th>mpg</th>\n",
              "      <th>cyl</th>\n",
              "      <th>hp</th>\n",
              "      <th>am</th>\n",
              "    </tr>\n",
              "    <tr>\n",
              "      <th>car_names</th>\n",
              "      <th></th>\n",
              "      <th></th>\n",
              "      <th></th>\n",
              "      <th></th>\n",
              "    </tr>\n",
              "  </thead>\n",
              "  <tbody>\n",
              "    <tr>\n",
              "      <th>Mazda RX4</th>\n",
              "      <td>21.0</td>\n",
              "      <td>6</td>\n",
              "      <td>110</td>\n",
              "      <td>1</td>\n",
              "    </tr>\n",
              "    <tr>\n",
              "      <th>Mazda RX4 Wag</th>\n",
              "      <td>21.0</td>\n",
              "      <td>6</td>\n",
              "      <td>110</td>\n",
              "      <td>1</td>\n",
              "    </tr>\n",
              "    <tr>\n",
              "      <th>Datsun 710</th>\n",
              "      <td>22.8</td>\n",
              "      <td>4</td>\n",
              "      <td>93</td>\n",
              "      <td>1</td>\n",
              "    </tr>\n",
              "    <tr>\n",
              "      <th>Hornet 4 Drive</th>\n",
              "      <td>21.4</td>\n",
              "      <td>6</td>\n",
              "      <td>110</td>\n",
              "      <td>0</td>\n",
              "    </tr>\n",
              "    <tr>\n",
              "      <th>Hornet Sportabout</th>\n",
              "      <td>18.7</td>\n",
              "      <td>8</td>\n",
              "      <td>175</td>\n",
              "      <td>0</td>\n",
              "    </tr>\n",
              "  </tbody>\n",
              "</table>\n",
              "</div>"
            ],
            "text/plain": [
              "                    mpg  cyl   hp  am\n",
              "car_names                            \n",
              "Mazda RX4          21.0    6  110   1\n",
              "Mazda RX4 Wag      21.0    6  110   1\n",
              "Datsun 710         22.8    4   93   1\n",
              "Hornet 4 Drive     21.4    6  110   0\n",
              "Hornet Sportabout  18.7    8  175   0"
            ]
          },
          "metadata": {},
          "execution_count": 135
        }
      ]
    },
    {
      "cell_type": "code",
      "metadata": {
        "id": "gsSLqZ6WImuw"
      },
      "source": [
        "def filtercyl(df):\n",
        "    \n",
        "    df_cyl=df[df['cyl']>4]\n",
        "    \n",
        "    return df_cyl"
      ],
      "execution_count": null,
      "outputs": []
    },
    {
      "cell_type": "code",
      "metadata": {
        "id": "p1hp5RgwIjVx",
        "colab": {
          "base_uri": "https://localhost:8080/",
          "height": 726
        },
        "outputId": "1bf7a9a4-e989-4020-a74b-e019536f113c"
      },
      "source": [
        "mtcars_pipe =(\n",
        "    load_data()\n",
        "    .pipe(filtercyl)\n",
        ")\n",
        "\n",
        "mtcars_pipe"
      ],
      "execution_count": null,
      "outputs": [
        {
          "output_type": "execute_result",
          "data": {
            "text/html": [
              "<div>\n",
              "<style scoped>\n",
              "    .dataframe tbody tr th:only-of-type {\n",
              "        vertical-align: middle;\n",
              "    }\n",
              "\n",
              "    .dataframe tbody tr th {\n",
              "        vertical-align: top;\n",
              "    }\n",
              "\n",
              "    .dataframe thead th {\n",
              "        text-align: right;\n",
              "    }\n",
              "</style>\n",
              "<table border=\"1\" class=\"dataframe\">\n",
              "  <thead>\n",
              "    <tr style=\"text-align: right;\">\n",
              "      <th></th>\n",
              "      <th>mpg</th>\n",
              "      <th>cyl</th>\n",
              "      <th>hp</th>\n",
              "      <th>am</th>\n",
              "    </tr>\n",
              "    <tr>\n",
              "      <th>car_names</th>\n",
              "      <th></th>\n",
              "      <th></th>\n",
              "      <th></th>\n",
              "      <th></th>\n",
              "    </tr>\n",
              "  </thead>\n",
              "  <tbody>\n",
              "    <tr>\n",
              "      <th>Mazda RX4</th>\n",
              "      <td>21.0</td>\n",
              "      <td>6</td>\n",
              "      <td>110</td>\n",
              "      <td>1</td>\n",
              "    </tr>\n",
              "    <tr>\n",
              "      <th>Mazda RX4 Wag</th>\n",
              "      <td>21.0</td>\n",
              "      <td>6</td>\n",
              "      <td>110</td>\n",
              "      <td>1</td>\n",
              "    </tr>\n",
              "    <tr>\n",
              "      <th>Hornet 4 Drive</th>\n",
              "      <td>21.4</td>\n",
              "      <td>6</td>\n",
              "      <td>110</td>\n",
              "      <td>0</td>\n",
              "    </tr>\n",
              "    <tr>\n",
              "      <th>Hornet Sportabout</th>\n",
              "      <td>18.7</td>\n",
              "      <td>8</td>\n",
              "      <td>175</td>\n",
              "      <td>0</td>\n",
              "    </tr>\n",
              "    <tr>\n",
              "      <th>Valiant</th>\n",
              "      <td>18.1</td>\n",
              "      <td>6</td>\n",
              "      <td>105</td>\n",
              "      <td>0</td>\n",
              "    </tr>\n",
              "    <tr>\n",
              "      <th>Duster 360</th>\n",
              "      <td>14.3</td>\n",
              "      <td>8</td>\n",
              "      <td>245</td>\n",
              "      <td>0</td>\n",
              "    </tr>\n",
              "    <tr>\n",
              "      <th>Merc 280</th>\n",
              "      <td>19.2</td>\n",
              "      <td>6</td>\n",
              "      <td>123</td>\n",
              "      <td>0</td>\n",
              "    </tr>\n",
              "    <tr>\n",
              "      <th>Merc 280C</th>\n",
              "      <td>17.8</td>\n",
              "      <td>6</td>\n",
              "      <td>123</td>\n",
              "      <td>0</td>\n",
              "    </tr>\n",
              "    <tr>\n",
              "      <th>Merc 450SE</th>\n",
              "      <td>16.4</td>\n",
              "      <td>8</td>\n",
              "      <td>180</td>\n",
              "      <td>0</td>\n",
              "    </tr>\n",
              "    <tr>\n",
              "      <th>Merc 450SL</th>\n",
              "      <td>17.3</td>\n",
              "      <td>8</td>\n",
              "      <td>180</td>\n",
              "      <td>0</td>\n",
              "    </tr>\n",
              "    <tr>\n",
              "      <th>Merc 450SLC</th>\n",
              "      <td>15.2</td>\n",
              "      <td>8</td>\n",
              "      <td>180</td>\n",
              "      <td>0</td>\n",
              "    </tr>\n",
              "    <tr>\n",
              "      <th>Cadillac Fleetwood</th>\n",
              "      <td>10.4</td>\n",
              "      <td>8</td>\n",
              "      <td>205</td>\n",
              "      <td>0</td>\n",
              "    </tr>\n",
              "    <tr>\n",
              "      <th>Lincoln Continental</th>\n",
              "      <td>10.4</td>\n",
              "      <td>8</td>\n",
              "      <td>215</td>\n",
              "      <td>0</td>\n",
              "    </tr>\n",
              "    <tr>\n",
              "      <th>Chrysler Imperial</th>\n",
              "      <td>14.7</td>\n",
              "      <td>8</td>\n",
              "      <td>230</td>\n",
              "      <td>0</td>\n",
              "    </tr>\n",
              "    <tr>\n",
              "      <th>Dodge Challenger</th>\n",
              "      <td>15.5</td>\n",
              "      <td>8</td>\n",
              "      <td>150</td>\n",
              "      <td>0</td>\n",
              "    </tr>\n",
              "    <tr>\n",
              "      <th>AMC Javelin</th>\n",
              "      <td>15.2</td>\n",
              "      <td>8</td>\n",
              "      <td>150</td>\n",
              "      <td>0</td>\n",
              "    </tr>\n",
              "    <tr>\n",
              "      <th>Camaro Z28</th>\n",
              "      <td>13.3</td>\n",
              "      <td>8</td>\n",
              "      <td>245</td>\n",
              "      <td>0</td>\n",
              "    </tr>\n",
              "    <tr>\n",
              "      <th>Pontiac Firebird</th>\n",
              "      <td>19.2</td>\n",
              "      <td>8</td>\n",
              "      <td>175</td>\n",
              "      <td>0</td>\n",
              "    </tr>\n",
              "    <tr>\n",
              "      <th>Ford Pantera L</th>\n",
              "      <td>15.8</td>\n",
              "      <td>8</td>\n",
              "      <td>264</td>\n",
              "      <td>1</td>\n",
              "    </tr>\n",
              "    <tr>\n",
              "      <th>Ferrari Dino</th>\n",
              "      <td>19.7</td>\n",
              "      <td>6</td>\n",
              "      <td>175</td>\n",
              "      <td>1</td>\n",
              "    </tr>\n",
              "    <tr>\n",
              "      <th>Maserati Bora</th>\n",
              "      <td>15.0</td>\n",
              "      <td>8</td>\n",
              "      <td>335</td>\n",
              "      <td>1</td>\n",
              "    </tr>\n",
              "  </tbody>\n",
              "</table>\n",
              "</div>"
            ],
            "text/plain": [
              "                      mpg  cyl   hp  am\n",
              "car_names                              \n",
              "Mazda RX4            21.0    6  110   1\n",
              "Mazda RX4 Wag        21.0    6  110   1\n",
              "Hornet 4 Drive       21.4    6  110   0\n",
              "Hornet Sportabout    18.7    8  175   0\n",
              "Valiant              18.1    6  105   0\n",
              "Duster 360           14.3    8  245   0\n",
              "Merc 280             19.2    6  123   0\n",
              "Merc 280C            17.8    6  123   0\n",
              "Merc 450SE           16.4    8  180   0\n",
              "Merc 450SL           17.3    8  180   0\n",
              "Merc 450SLC          15.2    8  180   0\n",
              "Cadillac Fleetwood   10.4    8  205   0\n",
              "Lincoln Continental  10.4    8  215   0\n",
              "Chrysler Imperial    14.7    8  230   0\n",
              "Dodge Challenger     15.5    8  150   0\n",
              "AMC Javelin          15.2    8  150   0\n",
              "Camaro Z28           13.3    8  245   0\n",
              "Pontiac Firebird     19.2    8  175   0\n",
              "Ford Pantera L       15.8    8  264   1\n",
              "Ferrari Dino         19.7    6  175   1\n",
              "Maserati Bora        15.0    8  335   1"
            ]
          },
          "metadata": {},
          "execution_count": 137
        }
      ]
    },
    {
      "cell_type": "code",
      "metadata": {
        "id": "MM1C1UMiSLKL"
      },
      "source": [
        "def filtermpg(df):\n",
        "    \n",
        "    df_mpg = df[df['mpg']>20]\n",
        "     \n",
        "    return df_mpg"
      ],
      "execution_count": null,
      "outputs": []
    },
    {
      "cell_type": "code",
      "metadata": {
        "colab": {
          "base_uri": "https://localhost:8080/",
          "height": 172
        },
        "id": "fqNoH34rSlmZ",
        "outputId": "5fcea8c1-aa5c-4d8e-a802-239456dd074a"
      },
      "source": [
        "mtcars_pipe =(\n",
        "    load_data()\n",
        "    .pipe(filtercyl)\n",
        "    .pipe(filtermpg)\n",
        ")\n",
        "\n",
        "mtcars_pipe"
      ],
      "execution_count": null,
      "outputs": [
        {
          "output_type": "execute_result",
          "data": {
            "text/html": [
              "<div>\n",
              "<style scoped>\n",
              "    .dataframe tbody tr th:only-of-type {\n",
              "        vertical-align: middle;\n",
              "    }\n",
              "\n",
              "    .dataframe tbody tr th {\n",
              "        vertical-align: top;\n",
              "    }\n",
              "\n",
              "    .dataframe thead th {\n",
              "        text-align: right;\n",
              "    }\n",
              "</style>\n",
              "<table border=\"1\" class=\"dataframe\">\n",
              "  <thead>\n",
              "    <tr style=\"text-align: right;\">\n",
              "      <th></th>\n",
              "      <th>mpg</th>\n",
              "      <th>cyl</th>\n",
              "      <th>hp</th>\n",
              "      <th>am</th>\n",
              "    </tr>\n",
              "    <tr>\n",
              "      <th>car_names</th>\n",
              "      <th></th>\n",
              "      <th></th>\n",
              "      <th></th>\n",
              "      <th></th>\n",
              "    </tr>\n",
              "  </thead>\n",
              "  <tbody>\n",
              "    <tr>\n",
              "      <th>Mazda RX4</th>\n",
              "      <td>21.0</td>\n",
              "      <td>6</td>\n",
              "      <td>110</td>\n",
              "      <td>1</td>\n",
              "    </tr>\n",
              "    <tr>\n",
              "      <th>Mazda RX4 Wag</th>\n",
              "      <td>21.0</td>\n",
              "      <td>6</td>\n",
              "      <td>110</td>\n",
              "      <td>1</td>\n",
              "    </tr>\n",
              "    <tr>\n",
              "      <th>Hornet 4 Drive</th>\n",
              "      <td>21.4</td>\n",
              "      <td>6</td>\n",
              "      <td>110</td>\n",
              "      <td>0</td>\n",
              "    </tr>\n",
              "  </tbody>\n",
              "</table>\n",
              "</div>"
            ],
            "text/plain": [
              "                 mpg  cyl   hp  am\n",
              "car_names                         \n",
              "Mazda RX4       21.0    6  110   1\n",
              "Mazda RX4 Wag   21.0    6  110   1\n",
              "Hornet 4 Drive  21.4    6  110   0"
            ]
          },
          "metadata": {},
          "execution_count": 139
        }
      ]
    },
    {
      "cell_type": "markdown",
      "metadata": {
        "id": "RQbQYM3-LBXi"
      },
      "source": [
        "### PAUSE: 14th Quiz of the Day = Pipe\n",
        "\n",
        "---\n",
        "* Do a pipeline of\n",
        "\n",
        ">* df_nursinghomes = df[df['type'] == 'Nursing Homes']\n",
        ">* df_above2010 = df[df['year'] > 2010]  \n"
      ]
    },
    {
      "cell_type": "code",
      "metadata": {
        "id": "UyD7LWyPJ-J2"
      },
      "source": [
        "def load_data():\n",
        "    return pd.read_csv('https://raw.githubusercontent.com/tertiarycourses/datasets/master/number-of-residential-long-term-care-facilities-sector-breakdown.csv')\n",
        "\n",
        "df = load_data()    "
      ],
      "execution_count": null,
      "outputs": []
    },
    {
      "cell_type": "code",
      "metadata": {
        "colab": {
          "base_uri": "https://localhost:8080/",
          "height": 203
        },
        "id": "jea340Q7FXwi",
        "outputId": "cbd65307-7d0a-49de-a5c0-4acf61d524f5"
      },
      "source": [
        "df.head()"
      ],
      "execution_count": null,
      "outputs": [
        {
          "output_type": "execute_result",
          "data": {
            "text/html": [
              "<div>\n",
              "<style scoped>\n",
              "    .dataframe tbody tr th:only-of-type {\n",
              "        vertical-align: middle;\n",
              "    }\n",
              "\n",
              "    .dataframe tbody tr th {\n",
              "        vertical-align: top;\n",
              "    }\n",
              "\n",
              "    .dataframe thead th {\n",
              "        text-align: right;\n",
              "    }\n",
              "</style>\n",
              "<table border=\"1\" class=\"dataframe\">\n",
              "  <thead>\n",
              "    <tr style=\"text-align: right;\">\n",
              "      <th></th>\n",
              "      <th>year</th>\n",
              "      <th>type</th>\n",
              "      <th>sector</th>\n",
              "      <th>count</th>\n",
              "    </tr>\n",
              "  </thead>\n",
              "  <tbody>\n",
              "    <tr>\n",
              "      <th>0</th>\n",
              "      <td>2006</td>\n",
              "      <td>Nursing Homes</td>\n",
              "      <td>Public</td>\n",
              "      <td>0</td>\n",
              "    </tr>\n",
              "    <tr>\n",
              "      <th>1</th>\n",
              "      <td>2006</td>\n",
              "      <td>Nursing Homes</td>\n",
              "      <td>Not-For-Profit</td>\n",
              "      <td>31</td>\n",
              "    </tr>\n",
              "    <tr>\n",
              "      <th>2</th>\n",
              "      <td>2006</td>\n",
              "      <td>Nursing Homes</td>\n",
              "      <td>Private</td>\n",
              "      <td>31</td>\n",
              "    </tr>\n",
              "    <tr>\n",
              "      <th>3</th>\n",
              "      <td>2006</td>\n",
              "      <td>Inpatient Hospices</td>\n",
              "      <td>Public</td>\n",
              "      <td>0</td>\n",
              "    </tr>\n",
              "    <tr>\n",
              "      <th>4</th>\n",
              "      <td>2006</td>\n",
              "      <td>Inpatient Hospices</td>\n",
              "      <td>Not-For-Profit</td>\n",
              "      <td>2</td>\n",
              "    </tr>\n",
              "  </tbody>\n",
              "</table>\n",
              "</div>"
            ],
            "text/plain": [
              "   year                type          sector  count\n",
              "0  2006       Nursing Homes          Public      0\n",
              "1  2006       Nursing Homes  Not-For-Profit     31\n",
              "2  2006       Nursing Homes         Private     31\n",
              "3  2006  Inpatient Hospices          Public      0\n",
              "4  2006  Inpatient Hospices  Not-For-Profit      2"
            ]
          },
          "metadata": {},
          "execution_count": 142
        }
      ]
    },
    {
      "cell_type": "code",
      "metadata": {
        "id": "MtPATB8JKFg8"
      },
      "source": [
        "def nursinghomes(df):\n",
        "    df_nursinghomes = df[df['type'] == 'Nursing Homes']\n",
        "\n",
        "    return df_nursinghomes"
      ],
      "execution_count": null,
      "outputs": []
    },
    {
      "cell_type": "code",
      "metadata": {
        "id": "o1kWNSu-K1nJ",
        "colab": {
          "base_uri": "https://localhost:8080/",
          "height": 1000
        },
        "outputId": "e2572bab-08cb-4a3c-c973-3b87f89ead17"
      },
      "source": [
        "nursinghome_pipe =(\n",
        "    load_data()\n",
        "    .pipe(nursinghomes)\n",
        ")\n",
        "\n",
        "nursinghome_pipe"
      ],
      "execution_count": null,
      "outputs": [
        {
          "output_type": "execute_result",
          "data": {
            "text/html": [
              "<div>\n",
              "<style scoped>\n",
              "    .dataframe tbody tr th:only-of-type {\n",
              "        vertical-align: middle;\n",
              "    }\n",
              "\n",
              "    .dataframe tbody tr th {\n",
              "        vertical-align: top;\n",
              "    }\n",
              "\n",
              "    .dataframe thead th {\n",
              "        text-align: right;\n",
              "    }\n",
              "</style>\n",
              "<table border=\"1\" class=\"dataframe\">\n",
              "  <thead>\n",
              "    <tr style=\"text-align: right;\">\n",
              "      <th></th>\n",
              "      <th>year</th>\n",
              "      <th>type</th>\n",
              "      <th>sector</th>\n",
              "      <th>count</th>\n",
              "    </tr>\n",
              "  </thead>\n",
              "  <tbody>\n",
              "    <tr>\n",
              "      <th>0</th>\n",
              "      <td>2006</td>\n",
              "      <td>Nursing Homes</td>\n",
              "      <td>Public</td>\n",
              "      <td>0</td>\n",
              "    </tr>\n",
              "    <tr>\n",
              "      <th>1</th>\n",
              "      <td>2006</td>\n",
              "      <td>Nursing Homes</td>\n",
              "      <td>Not-For-Profit</td>\n",
              "      <td>31</td>\n",
              "    </tr>\n",
              "    <tr>\n",
              "      <th>2</th>\n",
              "      <td>2006</td>\n",
              "      <td>Nursing Homes</td>\n",
              "      <td>Private</td>\n",
              "      <td>31</td>\n",
              "    </tr>\n",
              "    <tr>\n",
              "      <th>6</th>\n",
              "      <td>2007</td>\n",
              "      <td>Nursing Homes</td>\n",
              "      <td>Public</td>\n",
              "      <td>0</td>\n",
              "    </tr>\n",
              "    <tr>\n",
              "      <th>7</th>\n",
              "      <td>2007</td>\n",
              "      <td>Nursing Homes</td>\n",
              "      <td>Not-For-Profit</td>\n",
              "      <td>31</td>\n",
              "    </tr>\n",
              "    <tr>\n",
              "      <th>8</th>\n",
              "      <td>2007</td>\n",
              "      <td>Nursing Homes</td>\n",
              "      <td>Private</td>\n",
              "      <td>31</td>\n",
              "    </tr>\n",
              "    <tr>\n",
              "      <th>12</th>\n",
              "      <td>2008</td>\n",
              "      <td>Nursing Homes</td>\n",
              "      <td>Public</td>\n",
              "      <td>0</td>\n",
              "    </tr>\n",
              "    <tr>\n",
              "      <th>13</th>\n",
              "      <td>2008</td>\n",
              "      <td>Nursing Homes</td>\n",
              "      <td>Not-For-Profit</td>\n",
              "      <td>30</td>\n",
              "    </tr>\n",
              "    <tr>\n",
              "      <th>14</th>\n",
              "      <td>2008</td>\n",
              "      <td>Nursing Homes</td>\n",
              "      <td>Private</td>\n",
              "      <td>33</td>\n",
              "    </tr>\n",
              "    <tr>\n",
              "      <th>18</th>\n",
              "      <td>2009</td>\n",
              "      <td>Nursing Homes</td>\n",
              "      <td>Public</td>\n",
              "      <td>0</td>\n",
              "    </tr>\n",
              "    <tr>\n",
              "      <th>19</th>\n",
              "      <td>2009</td>\n",
              "      <td>Nursing Homes</td>\n",
              "      <td>Not-For-Profit</td>\n",
              "      <td>30</td>\n",
              "    </tr>\n",
              "    <tr>\n",
              "      <th>20</th>\n",
              "      <td>2009</td>\n",
              "      <td>Nursing Homes</td>\n",
              "      <td>Private</td>\n",
              "      <td>30</td>\n",
              "    </tr>\n",
              "    <tr>\n",
              "      <th>24</th>\n",
              "      <td>2010</td>\n",
              "      <td>Nursing Homes</td>\n",
              "      <td>Public</td>\n",
              "      <td>0</td>\n",
              "    </tr>\n",
              "    <tr>\n",
              "      <th>25</th>\n",
              "      <td>2010</td>\n",
              "      <td>Nursing Homes</td>\n",
              "      <td>Not-For-Profit</td>\n",
              "      <td>30</td>\n",
              "    </tr>\n",
              "    <tr>\n",
              "      <th>26</th>\n",
              "      <td>2010</td>\n",
              "      <td>Nursing Homes</td>\n",
              "      <td>Private</td>\n",
              "      <td>32</td>\n",
              "    </tr>\n",
              "    <tr>\n",
              "      <th>30</th>\n",
              "      <td>2011</td>\n",
              "      <td>Nursing Homes</td>\n",
              "      <td>Public</td>\n",
              "      <td>1</td>\n",
              "    </tr>\n",
              "    <tr>\n",
              "      <th>31</th>\n",
              "      <td>2011</td>\n",
              "      <td>Nursing Homes</td>\n",
              "      <td>Not-For-Profit</td>\n",
              "      <td>31</td>\n",
              "    </tr>\n",
              "    <tr>\n",
              "      <th>32</th>\n",
              "      <td>2011</td>\n",
              "      <td>Nursing Homes</td>\n",
              "      <td>Private</td>\n",
              "      <td>32</td>\n",
              "    </tr>\n",
              "    <tr>\n",
              "      <th>36</th>\n",
              "      <td>2012</td>\n",
              "      <td>Nursing Homes</td>\n",
              "      <td>Public</td>\n",
              "      <td>1</td>\n",
              "    </tr>\n",
              "    <tr>\n",
              "      <th>37</th>\n",
              "      <td>2012</td>\n",
              "      <td>Nursing Homes</td>\n",
              "      <td>Not-For-Profit</td>\n",
              "      <td>31</td>\n",
              "    </tr>\n",
              "    <tr>\n",
              "      <th>38</th>\n",
              "      <td>2012</td>\n",
              "      <td>Nursing Homes</td>\n",
              "      <td>Private</td>\n",
              "      <td>32</td>\n",
              "    </tr>\n",
              "    <tr>\n",
              "      <th>42</th>\n",
              "      <td>2013</td>\n",
              "      <td>Nursing Homes</td>\n",
              "      <td>Public</td>\n",
              "      <td>5</td>\n",
              "    </tr>\n",
              "    <tr>\n",
              "      <th>43</th>\n",
              "      <td>2013</td>\n",
              "      <td>Nursing Homes</td>\n",
              "      <td>Not-For-Profit</td>\n",
              "      <td>28</td>\n",
              "    </tr>\n",
              "    <tr>\n",
              "      <th>44</th>\n",
              "      <td>2013</td>\n",
              "      <td>Nursing Homes</td>\n",
              "      <td>Private</td>\n",
              "      <td>33</td>\n",
              "    </tr>\n",
              "    <tr>\n",
              "      <th>48</th>\n",
              "      <td>2014</td>\n",
              "      <td>Nursing Homes</td>\n",
              "      <td>Public</td>\n",
              "      <td>6</td>\n",
              "    </tr>\n",
              "    <tr>\n",
              "      <th>49</th>\n",
              "      <td>2014</td>\n",
              "      <td>Nursing Homes</td>\n",
              "      <td>Not-For-Profit</td>\n",
              "      <td>27</td>\n",
              "    </tr>\n",
              "    <tr>\n",
              "      <th>50</th>\n",
              "      <td>2014</td>\n",
              "      <td>Nursing Homes</td>\n",
              "      <td>Private</td>\n",
              "      <td>32</td>\n",
              "    </tr>\n",
              "    <tr>\n",
              "      <th>54</th>\n",
              "      <td>2015</td>\n",
              "      <td>Nursing Homes</td>\n",
              "      <td>Public</td>\n",
              "      <td>11</td>\n",
              "    </tr>\n",
              "    <tr>\n",
              "      <th>55</th>\n",
              "      <td>2015</td>\n",
              "      <td>Nursing Homes</td>\n",
              "      <td>Not-For-Profit</td>\n",
              "      <td>26</td>\n",
              "    </tr>\n",
              "    <tr>\n",
              "      <th>56</th>\n",
              "      <td>2015</td>\n",
              "      <td>Nursing Homes</td>\n",
              "      <td>Private</td>\n",
              "      <td>34</td>\n",
              "    </tr>\n",
              "    <tr>\n",
              "      <th>60</th>\n",
              "      <td>2016</td>\n",
              "      <td>Nursing Homes</td>\n",
              "      <td>Public</td>\n",
              "      <td>13</td>\n",
              "    </tr>\n",
              "    <tr>\n",
              "      <th>61</th>\n",
              "      <td>2016</td>\n",
              "      <td>Nursing Homes</td>\n",
              "      <td>Not-For-Profit</td>\n",
              "      <td>26</td>\n",
              "    </tr>\n",
              "    <tr>\n",
              "      <th>62</th>\n",
              "      <td>2016</td>\n",
              "      <td>Nursing Homes</td>\n",
              "      <td>Private</td>\n",
              "      <td>30</td>\n",
              "    </tr>\n",
              "    <tr>\n",
              "      <th>66</th>\n",
              "      <td>2017</td>\n",
              "      <td>Nursing Homes</td>\n",
              "      <td>Public</td>\n",
              "      <td>20</td>\n",
              "    </tr>\n",
              "    <tr>\n",
              "      <th>67</th>\n",
              "      <td>2017</td>\n",
              "      <td>Nursing Homes</td>\n",
              "      <td>Not-For-Profit</td>\n",
              "      <td>23</td>\n",
              "    </tr>\n",
              "    <tr>\n",
              "      <th>68</th>\n",
              "      <td>2017</td>\n",
              "      <td>Nursing Homes</td>\n",
              "      <td>Private</td>\n",
              "      <td>30</td>\n",
              "    </tr>\n",
              "    <tr>\n",
              "      <th>72</th>\n",
              "      <td>2018</td>\n",
              "      <td>Nursing Homes</td>\n",
              "      <td>Public</td>\n",
              "      <td>21</td>\n",
              "    </tr>\n",
              "    <tr>\n",
              "      <th>73</th>\n",
              "      <td>2018</td>\n",
              "      <td>Nursing Homes</td>\n",
              "      <td>Not-For-Profit</td>\n",
              "      <td>23</td>\n",
              "    </tr>\n",
              "    <tr>\n",
              "      <th>74</th>\n",
              "      <td>2018</td>\n",
              "      <td>Nursing Homes</td>\n",
              "      <td>Private</td>\n",
              "      <td>28</td>\n",
              "    </tr>\n",
              "    <tr>\n",
              "      <th>78</th>\n",
              "      <td>2019</td>\n",
              "      <td>Nursing Homes</td>\n",
              "      <td>Public</td>\n",
              "      <td>23</td>\n",
              "    </tr>\n",
              "    <tr>\n",
              "      <th>79</th>\n",
              "      <td>2019</td>\n",
              "      <td>Nursing Homes</td>\n",
              "      <td>Not-For-Profit</td>\n",
              "      <td>23</td>\n",
              "    </tr>\n",
              "    <tr>\n",
              "      <th>80</th>\n",
              "      <td>2019</td>\n",
              "      <td>Nursing Homes</td>\n",
              "      <td>Private</td>\n",
              "      <td>31</td>\n",
              "    </tr>\n",
              "  </tbody>\n",
              "</table>\n",
              "</div>"
            ],
            "text/plain": [
              "    year           type          sector  count\n",
              "0   2006  Nursing Homes          Public      0\n",
              "1   2006  Nursing Homes  Not-For-Profit     31\n",
              "2   2006  Nursing Homes         Private     31\n",
              "6   2007  Nursing Homes          Public      0\n",
              "7   2007  Nursing Homes  Not-For-Profit     31\n",
              "8   2007  Nursing Homes         Private     31\n",
              "12  2008  Nursing Homes          Public      0\n",
              "13  2008  Nursing Homes  Not-For-Profit     30\n",
              "14  2008  Nursing Homes         Private     33\n",
              "18  2009  Nursing Homes          Public      0\n",
              "19  2009  Nursing Homes  Not-For-Profit     30\n",
              "20  2009  Nursing Homes         Private     30\n",
              "24  2010  Nursing Homes          Public      0\n",
              "25  2010  Nursing Homes  Not-For-Profit     30\n",
              "26  2010  Nursing Homes         Private     32\n",
              "30  2011  Nursing Homes          Public      1\n",
              "31  2011  Nursing Homes  Not-For-Profit     31\n",
              "32  2011  Nursing Homes         Private     32\n",
              "36  2012  Nursing Homes          Public      1\n",
              "37  2012  Nursing Homes  Not-For-Profit     31\n",
              "38  2012  Nursing Homes         Private     32\n",
              "42  2013  Nursing Homes          Public      5\n",
              "43  2013  Nursing Homes  Not-For-Profit     28\n",
              "44  2013  Nursing Homes         Private     33\n",
              "48  2014  Nursing Homes          Public      6\n",
              "49  2014  Nursing Homes  Not-For-Profit     27\n",
              "50  2014  Nursing Homes         Private     32\n",
              "54  2015  Nursing Homes          Public     11\n",
              "55  2015  Nursing Homes  Not-For-Profit     26\n",
              "56  2015  Nursing Homes         Private     34\n",
              "60  2016  Nursing Homes          Public     13\n",
              "61  2016  Nursing Homes  Not-For-Profit     26\n",
              "62  2016  Nursing Homes         Private     30\n",
              "66  2017  Nursing Homes          Public     20\n",
              "67  2017  Nursing Homes  Not-For-Profit     23\n",
              "68  2017  Nursing Homes         Private     30\n",
              "72  2018  Nursing Homes          Public     21\n",
              "73  2018  Nursing Homes  Not-For-Profit     23\n",
              "74  2018  Nursing Homes         Private     28\n",
              "78  2019  Nursing Homes          Public     23\n",
              "79  2019  Nursing Homes  Not-For-Profit     23\n",
              "80  2019  Nursing Homes         Private     31"
            ]
          },
          "metadata": {},
          "execution_count": 145
        }
      ]
    },
    {
      "cell_type": "code",
      "metadata": {
        "id": "xV3xLHt8GnfE"
      },
      "source": [
        "def above2010(df):\n",
        "    df_above2010 = df[df['year'] > 2010]\n",
        "\n",
        "    return df_above2010"
      ],
      "execution_count": null,
      "outputs": []
    },
    {
      "cell_type": "code",
      "metadata": {
        "colab": {
          "base_uri": "https://localhost:8080/",
          "height": 881
        },
        "id": "rSly6b4fHA9-",
        "outputId": "7f81a8aa-805e-4c1d-c7c8-e22a40fd803a"
      },
      "source": [
        "nursinghome_pipe =(\n",
        "    load_data()\n",
        "    .pipe(nursinghomes)\n",
        "    .pipe(above2010)\n",
        ")\n",
        "\n",
        "nursinghome_pipe"
      ],
      "execution_count": null,
      "outputs": [
        {
          "output_type": "execute_result",
          "data": {
            "text/html": [
              "<div>\n",
              "<style scoped>\n",
              "    .dataframe tbody tr th:only-of-type {\n",
              "        vertical-align: middle;\n",
              "    }\n",
              "\n",
              "    .dataframe tbody tr th {\n",
              "        vertical-align: top;\n",
              "    }\n",
              "\n",
              "    .dataframe thead th {\n",
              "        text-align: right;\n",
              "    }\n",
              "</style>\n",
              "<table border=\"1\" class=\"dataframe\">\n",
              "  <thead>\n",
              "    <tr style=\"text-align: right;\">\n",
              "      <th></th>\n",
              "      <th>year</th>\n",
              "      <th>type</th>\n",
              "      <th>sector</th>\n",
              "      <th>count</th>\n",
              "    </tr>\n",
              "  </thead>\n",
              "  <tbody>\n",
              "    <tr>\n",
              "      <th>30</th>\n",
              "      <td>2011</td>\n",
              "      <td>Nursing Homes</td>\n",
              "      <td>Public</td>\n",
              "      <td>1</td>\n",
              "    </tr>\n",
              "    <tr>\n",
              "      <th>31</th>\n",
              "      <td>2011</td>\n",
              "      <td>Nursing Homes</td>\n",
              "      <td>Not-For-Profit</td>\n",
              "      <td>31</td>\n",
              "    </tr>\n",
              "    <tr>\n",
              "      <th>32</th>\n",
              "      <td>2011</td>\n",
              "      <td>Nursing Homes</td>\n",
              "      <td>Private</td>\n",
              "      <td>32</td>\n",
              "    </tr>\n",
              "    <tr>\n",
              "      <th>36</th>\n",
              "      <td>2012</td>\n",
              "      <td>Nursing Homes</td>\n",
              "      <td>Public</td>\n",
              "      <td>1</td>\n",
              "    </tr>\n",
              "    <tr>\n",
              "      <th>37</th>\n",
              "      <td>2012</td>\n",
              "      <td>Nursing Homes</td>\n",
              "      <td>Not-For-Profit</td>\n",
              "      <td>31</td>\n",
              "    </tr>\n",
              "    <tr>\n",
              "      <th>38</th>\n",
              "      <td>2012</td>\n",
              "      <td>Nursing Homes</td>\n",
              "      <td>Private</td>\n",
              "      <td>32</td>\n",
              "    </tr>\n",
              "    <tr>\n",
              "      <th>42</th>\n",
              "      <td>2013</td>\n",
              "      <td>Nursing Homes</td>\n",
              "      <td>Public</td>\n",
              "      <td>5</td>\n",
              "    </tr>\n",
              "    <tr>\n",
              "      <th>43</th>\n",
              "      <td>2013</td>\n",
              "      <td>Nursing Homes</td>\n",
              "      <td>Not-For-Profit</td>\n",
              "      <td>28</td>\n",
              "    </tr>\n",
              "    <tr>\n",
              "      <th>44</th>\n",
              "      <td>2013</td>\n",
              "      <td>Nursing Homes</td>\n",
              "      <td>Private</td>\n",
              "      <td>33</td>\n",
              "    </tr>\n",
              "    <tr>\n",
              "      <th>48</th>\n",
              "      <td>2014</td>\n",
              "      <td>Nursing Homes</td>\n",
              "      <td>Public</td>\n",
              "      <td>6</td>\n",
              "    </tr>\n",
              "    <tr>\n",
              "      <th>49</th>\n",
              "      <td>2014</td>\n",
              "      <td>Nursing Homes</td>\n",
              "      <td>Not-For-Profit</td>\n",
              "      <td>27</td>\n",
              "    </tr>\n",
              "    <tr>\n",
              "      <th>50</th>\n",
              "      <td>2014</td>\n",
              "      <td>Nursing Homes</td>\n",
              "      <td>Private</td>\n",
              "      <td>32</td>\n",
              "    </tr>\n",
              "    <tr>\n",
              "      <th>54</th>\n",
              "      <td>2015</td>\n",
              "      <td>Nursing Homes</td>\n",
              "      <td>Public</td>\n",
              "      <td>11</td>\n",
              "    </tr>\n",
              "    <tr>\n",
              "      <th>55</th>\n",
              "      <td>2015</td>\n",
              "      <td>Nursing Homes</td>\n",
              "      <td>Not-For-Profit</td>\n",
              "      <td>26</td>\n",
              "    </tr>\n",
              "    <tr>\n",
              "      <th>56</th>\n",
              "      <td>2015</td>\n",
              "      <td>Nursing Homes</td>\n",
              "      <td>Private</td>\n",
              "      <td>34</td>\n",
              "    </tr>\n",
              "    <tr>\n",
              "      <th>60</th>\n",
              "      <td>2016</td>\n",
              "      <td>Nursing Homes</td>\n",
              "      <td>Public</td>\n",
              "      <td>13</td>\n",
              "    </tr>\n",
              "    <tr>\n",
              "      <th>61</th>\n",
              "      <td>2016</td>\n",
              "      <td>Nursing Homes</td>\n",
              "      <td>Not-For-Profit</td>\n",
              "      <td>26</td>\n",
              "    </tr>\n",
              "    <tr>\n",
              "      <th>62</th>\n",
              "      <td>2016</td>\n",
              "      <td>Nursing Homes</td>\n",
              "      <td>Private</td>\n",
              "      <td>30</td>\n",
              "    </tr>\n",
              "    <tr>\n",
              "      <th>66</th>\n",
              "      <td>2017</td>\n",
              "      <td>Nursing Homes</td>\n",
              "      <td>Public</td>\n",
              "      <td>20</td>\n",
              "    </tr>\n",
              "    <tr>\n",
              "      <th>67</th>\n",
              "      <td>2017</td>\n",
              "      <td>Nursing Homes</td>\n",
              "      <td>Not-For-Profit</td>\n",
              "      <td>23</td>\n",
              "    </tr>\n",
              "    <tr>\n",
              "      <th>68</th>\n",
              "      <td>2017</td>\n",
              "      <td>Nursing Homes</td>\n",
              "      <td>Private</td>\n",
              "      <td>30</td>\n",
              "    </tr>\n",
              "    <tr>\n",
              "      <th>72</th>\n",
              "      <td>2018</td>\n",
              "      <td>Nursing Homes</td>\n",
              "      <td>Public</td>\n",
              "      <td>21</td>\n",
              "    </tr>\n",
              "    <tr>\n",
              "      <th>73</th>\n",
              "      <td>2018</td>\n",
              "      <td>Nursing Homes</td>\n",
              "      <td>Not-For-Profit</td>\n",
              "      <td>23</td>\n",
              "    </tr>\n",
              "    <tr>\n",
              "      <th>74</th>\n",
              "      <td>2018</td>\n",
              "      <td>Nursing Homes</td>\n",
              "      <td>Private</td>\n",
              "      <td>28</td>\n",
              "    </tr>\n",
              "    <tr>\n",
              "      <th>78</th>\n",
              "      <td>2019</td>\n",
              "      <td>Nursing Homes</td>\n",
              "      <td>Public</td>\n",
              "      <td>23</td>\n",
              "    </tr>\n",
              "    <tr>\n",
              "      <th>79</th>\n",
              "      <td>2019</td>\n",
              "      <td>Nursing Homes</td>\n",
              "      <td>Not-For-Profit</td>\n",
              "      <td>23</td>\n",
              "    </tr>\n",
              "    <tr>\n",
              "      <th>80</th>\n",
              "      <td>2019</td>\n",
              "      <td>Nursing Homes</td>\n",
              "      <td>Private</td>\n",
              "      <td>31</td>\n",
              "    </tr>\n",
              "  </tbody>\n",
              "</table>\n",
              "</div>"
            ],
            "text/plain": [
              "    year           type          sector  count\n",
              "30  2011  Nursing Homes          Public      1\n",
              "31  2011  Nursing Homes  Not-For-Profit     31\n",
              "32  2011  Nursing Homes         Private     32\n",
              "36  2012  Nursing Homes          Public      1\n",
              "37  2012  Nursing Homes  Not-For-Profit     31\n",
              "38  2012  Nursing Homes         Private     32\n",
              "42  2013  Nursing Homes          Public      5\n",
              "43  2013  Nursing Homes  Not-For-Profit     28\n",
              "44  2013  Nursing Homes         Private     33\n",
              "48  2014  Nursing Homes          Public      6\n",
              "49  2014  Nursing Homes  Not-For-Profit     27\n",
              "50  2014  Nursing Homes         Private     32\n",
              "54  2015  Nursing Homes          Public     11\n",
              "55  2015  Nursing Homes  Not-For-Profit     26\n",
              "56  2015  Nursing Homes         Private     34\n",
              "60  2016  Nursing Homes          Public     13\n",
              "61  2016  Nursing Homes  Not-For-Profit     26\n",
              "62  2016  Nursing Homes         Private     30\n",
              "66  2017  Nursing Homes          Public     20\n",
              "67  2017  Nursing Homes  Not-For-Profit     23\n",
              "68  2017  Nursing Homes         Private     30\n",
              "72  2018  Nursing Homes          Public     21\n",
              "73  2018  Nursing Homes  Not-For-Profit     23\n",
              "74  2018  Nursing Homes         Private     28\n",
              "78  2019  Nursing Homes          Public     23\n",
              "79  2019  Nursing Homes  Not-For-Profit     23\n",
              "80  2019  Nursing Homes         Private     31"
            ]
          },
          "metadata": {},
          "execution_count": 147
        }
      ]
    },
    {
      "cell_type": "markdown",
      "metadata": {
        "id": "QODt9EwcIe17"
      },
      "source": [
        "## Topic 5b: Learning Apply"
      ]
    },
    {
      "cell_type": "code",
      "metadata": {
        "id": "IE8SCm6BGC0V",
        "colab": {
          "base_uri": "https://localhost:8080/",
          "height": 142
        },
        "outputId": "e6ff9d81-3668-4f2b-ad52-7eebdc6e82be"
      },
      "source": [
        "import numpy as np\n",
        "\n",
        "df = pd.DataFrame([[9, 25]] * 3, columns=['P', 'Q'])\n",
        "df"
      ],
      "execution_count": null,
      "outputs": [
        {
          "output_type": "execute_result",
          "data": {
            "text/html": [
              "<div>\n",
              "<style scoped>\n",
              "    .dataframe tbody tr th:only-of-type {\n",
              "        vertical-align: middle;\n",
              "    }\n",
              "\n",
              "    .dataframe tbody tr th {\n",
              "        vertical-align: top;\n",
              "    }\n",
              "\n",
              "    .dataframe thead th {\n",
              "        text-align: right;\n",
              "    }\n",
              "</style>\n",
              "<table border=\"1\" class=\"dataframe\">\n",
              "  <thead>\n",
              "    <tr style=\"text-align: right;\">\n",
              "      <th></th>\n",
              "      <th>P</th>\n",
              "      <th>Q</th>\n",
              "    </tr>\n",
              "  </thead>\n",
              "  <tbody>\n",
              "    <tr>\n",
              "      <th>0</th>\n",
              "      <td>9</td>\n",
              "      <td>25</td>\n",
              "    </tr>\n",
              "    <tr>\n",
              "      <th>1</th>\n",
              "      <td>9</td>\n",
              "      <td>25</td>\n",
              "    </tr>\n",
              "    <tr>\n",
              "      <th>2</th>\n",
              "      <td>9</td>\n",
              "      <td>25</td>\n",
              "    </tr>\n",
              "  </tbody>\n",
              "</table>\n",
              "</div>"
            ],
            "text/plain": [
              "   P   Q\n",
              "0  9  25\n",
              "1  9  25\n",
              "2  9  25"
            ]
          },
          "metadata": {},
          "execution_count": 90
        }
      ]
    },
    {
      "cell_type": "code",
      "metadata": {
        "id": "WlSenEFCGLZu",
        "colab": {
          "base_uri": "https://localhost:8080/",
          "height": 142
        },
        "outputId": "480a8e6b-bb96-4277-d90e-4ad64c4ac06e"
      },
      "source": [
        "df.apply(np.sqrt)"
      ],
      "execution_count": null,
      "outputs": [
        {
          "output_type": "execute_result",
          "data": {
            "text/html": [
              "<div>\n",
              "<style scoped>\n",
              "    .dataframe tbody tr th:only-of-type {\n",
              "        vertical-align: middle;\n",
              "    }\n",
              "\n",
              "    .dataframe tbody tr th {\n",
              "        vertical-align: top;\n",
              "    }\n",
              "\n",
              "    .dataframe thead th {\n",
              "        text-align: right;\n",
              "    }\n",
              "</style>\n",
              "<table border=\"1\" class=\"dataframe\">\n",
              "  <thead>\n",
              "    <tr style=\"text-align: right;\">\n",
              "      <th></th>\n",
              "      <th>P</th>\n",
              "      <th>Q</th>\n",
              "    </tr>\n",
              "  </thead>\n",
              "  <tbody>\n",
              "    <tr>\n",
              "      <th>0</th>\n",
              "      <td>3.0</td>\n",
              "      <td>5.0</td>\n",
              "    </tr>\n",
              "    <tr>\n",
              "      <th>1</th>\n",
              "      <td>3.0</td>\n",
              "      <td>5.0</td>\n",
              "    </tr>\n",
              "    <tr>\n",
              "      <th>2</th>\n",
              "      <td>3.0</td>\n",
              "      <td>5.0</td>\n",
              "    </tr>\n",
              "  </tbody>\n",
              "</table>\n",
              "</div>"
            ],
            "text/plain": [
              "     P    Q\n",
              "0  3.0  5.0\n",
              "1  3.0  5.0\n",
              "2  3.0  5.0"
            ]
          },
          "metadata": {},
          "execution_count": 91
        }
      ]
    },
    {
      "cell_type": "code",
      "metadata": {
        "id": "pM576cf-f8vC"
      },
      "source": [
        "uppercase = lambda x: x.upper()"
      ],
      "execution_count": null,
      "outputs": []
    },
    {
      "cell_type": "code",
      "metadata": {
        "id": "n1YhVsaDf-YV",
        "colab": {
          "base_uri": "https://localhost:8080/",
          "height": 202
        },
        "outputId": "10d4263d-7b4c-49dc-b2a8-aa46980e1d14"
      },
      "source": [
        "mtcars_sample2 = mtcars_sample.reset_index()\n",
        "mtcars_sample2['car_names'] = mtcars_sample2['car_names'].apply(uppercase)\n",
        "mtcars_sample2"
      ],
      "execution_count": null,
      "outputs": [
        {
          "output_type": "error",
          "ename": "NameError",
          "evalue": "ignored",
          "traceback": [
            "\u001b[0;31m---------------------------------------------------------------------------\u001b[0m",
            "\u001b[0;31mNameError\u001b[0m                                 Traceback (most recent call last)",
            "\u001b[0;32m<ipython-input-94-d2a62eb76508>\u001b[0m in \u001b[0;36m<module>\u001b[0;34m()\u001b[0m\n\u001b[0;32m----> 1\u001b[0;31m \u001b[0mmtcars_sample2\u001b[0m \u001b[0;34m=\u001b[0m \u001b[0mmtcars_sample\u001b[0m\u001b[0;34m.\u001b[0m\u001b[0mreset_index\u001b[0m\u001b[0;34m(\u001b[0m\u001b[0;34m)\u001b[0m\u001b[0;34m\u001b[0m\u001b[0;34m\u001b[0m\u001b[0m\n\u001b[0m\u001b[1;32m      2\u001b[0m \u001b[0mmtcars_sample2\u001b[0m\u001b[0;34m[\u001b[0m\u001b[0;34m'car_names'\u001b[0m\u001b[0;34m]\u001b[0m \u001b[0;34m=\u001b[0m \u001b[0mmtcars_sample2\u001b[0m\u001b[0;34m[\u001b[0m\u001b[0;34m'car_names'\u001b[0m\u001b[0;34m]\u001b[0m\u001b[0;34m.\u001b[0m\u001b[0mapply\u001b[0m\u001b[0;34m(\u001b[0m\u001b[0muppercase\u001b[0m\u001b[0;34m)\u001b[0m\u001b[0;34m\u001b[0m\u001b[0;34m\u001b[0m\u001b[0m\n\u001b[1;32m      3\u001b[0m \u001b[0mmtcars_sample2\u001b[0m\u001b[0;34m\u001b[0m\u001b[0;34m\u001b[0m\u001b[0m\n",
            "\u001b[0;31mNameError\u001b[0m: name 'mtcars_sample' is not defined"
          ]
        }
      ]
    },
    {
      "cell_type": "markdown",
      "metadata": {
        "id": "viSiaJyLnzQ3"
      },
      "source": [
        "### PAUSE: 15th Quiz of the Day = Apply\n",
        "\n",
        "---\n",
        "\n",
        "* Import the Singapore Health Expenditure dataset\n",
        "from https://raw.githubusercontent.com/tertiarycourses/datasets/master/government-health-expenditure.csv\n",
        "\n",
        "* Convert the expenditures to USD using apply\n",
        "function."
      ]
    },
    {
      "cell_type": "code",
      "metadata": {
        "id": "U3MVhK0tmm48",
        "colab": {
          "base_uri": "https://localhost:8080/",
          "height": 418
        },
        "outputId": "40861c84-77b1-486a-d464-8ff208ab08ba"
      },
      "source": [
        "health_expenditure = pd.read_csv('https://raw.githubusercontent.com/tertiarycourses/datasets/master/government-health-expenditure.csv')\n",
        "health_expenditure"
      ],
      "execution_count": null,
      "outputs": [
        {
          "output_type": "execute_result",
          "data": {
            "text/html": [
              "<div>\n",
              "<style scoped>\n",
              "    .dataframe tbody tr th:only-of-type {\n",
              "        vertical-align: middle;\n",
              "    }\n",
              "\n",
              "    .dataframe tbody tr th {\n",
              "        vertical-align: top;\n",
              "    }\n",
              "\n",
              "    .dataframe thead th {\n",
              "        text-align: right;\n",
              "    }\n",
              "</style>\n",
              "<table border=\"1\" class=\"dataframe\">\n",
              "  <thead>\n",
              "    <tr style=\"text-align: right;\">\n",
              "      <th></th>\n",
              "      <th>financial_year</th>\n",
              "      <th>operating_expenditure</th>\n",
              "      <th>development_expenditure</th>\n",
              "      <th>government_health_expenditure</th>\n",
              "      <th>percentage_gdp</th>\n",
              "    </tr>\n",
              "  </thead>\n",
              "  <tbody>\n",
              "    <tr>\n",
              "      <th>0</th>\n",
              "      <td>2006</td>\n",
              "      <td>1840</td>\n",
              "      <td>96</td>\n",
              "      <td>2009.7</td>\n",
              "      <td>0.9</td>\n",
              "    </tr>\n",
              "    <tr>\n",
              "      <th>1</th>\n",
              "      <td>2007</td>\n",
              "      <td>2019</td>\n",
              "      <td>185</td>\n",
              "      <td>2283.2</td>\n",
              "      <td>0.8</td>\n",
              "    </tr>\n",
              "    <tr>\n",
              "      <th>2</th>\n",
              "      <td>2008</td>\n",
              "      <td>2379</td>\n",
              "      <td>336</td>\n",
              "      <td>2814.1</td>\n",
              "      <td>1.0</td>\n",
              "    </tr>\n",
              "    <tr>\n",
              "      <th>3</th>\n",
              "      <td>2009</td>\n",
              "      <td>2920</td>\n",
              "      <td>711</td>\n",
              "      <td>3745.8</td>\n",
              "      <td>1.3</td>\n",
              "    </tr>\n",
              "    <tr>\n",
              "      <th>4</th>\n",
              "      <td>2010</td>\n",
              "      <td>3258</td>\n",
              "      <td>485</td>\n",
              "      <td>3856.7</td>\n",
              "      <td>1.2</td>\n",
              "    </tr>\n",
              "    <tr>\n",
              "      <th>5</th>\n",
              "      <td>2011</td>\n",
              "      <td>3489</td>\n",
              "      <td>453</td>\n",
              "      <td>4091.5</td>\n",
              "      <td>1.2</td>\n",
              "    </tr>\n",
              "    <tr>\n",
              "      <th>6</th>\n",
              "      <td>2012</td>\n",
              "      <td>4066</td>\n",
              "      <td>605</td>\n",
              "      <td>4837.3</td>\n",
              "      <td>1.3</td>\n",
              "    </tr>\n",
              "    <tr>\n",
              "      <th>7</th>\n",
              "      <td>2013</td>\n",
              "      <td>5044</td>\n",
              "      <td>723</td>\n",
              "      <td>5938.1</td>\n",
              "      <td>1.6</td>\n",
              "    </tr>\n",
              "    <tr>\n",
              "      <th>8</th>\n",
              "      <td>2014</td>\n",
              "      <td>5872</td>\n",
              "      <td>1147</td>\n",
              "      <td>7223.1</td>\n",
              "      <td>1.8</td>\n",
              "    </tr>\n",
              "    <tr>\n",
              "      <th>9</th>\n",
              "      <td>2015</td>\n",
              "      <td>7520</td>\n",
              "      <td>1413</td>\n",
              "      <td>8639.9</td>\n",
              "      <td>2.1</td>\n",
              "    </tr>\n",
              "    <tr>\n",
              "      <th>10</th>\n",
              "      <td>2016</td>\n",
              "      <td>8199</td>\n",
              "      <td>1618</td>\n",
              "      <td>9307.0</td>\n",
              "      <td>2.1</td>\n",
              "    </tr>\n",
              "    <tr>\n",
              "      <th>11</th>\n",
              "      <td>2017</td>\n",
              "      <td>8734</td>\n",
              "      <td>1465</td>\n",
              "      <td>9764.3</td>\n",
              "      <td>2.1</td>\n",
              "    </tr>\n",
              "  </tbody>\n",
              "</table>\n",
              "</div>"
            ],
            "text/plain": [
              "    financial_year  ...  percentage_gdp\n",
              "0             2006  ...             0.9\n",
              "1             2007  ...             0.8\n",
              "2             2008  ...             1.0\n",
              "3             2009  ...             1.3\n",
              "4             2010  ...             1.2\n",
              "5             2011  ...             1.2\n",
              "6             2012  ...             1.3\n",
              "7             2013  ...             1.6\n",
              "8             2014  ...             1.8\n",
              "9             2015  ...             2.1\n",
              "10            2016  ...             2.1\n",
              "11            2017  ...             2.1\n",
              "\n",
              "[12 rows x 5 columns]"
            ]
          },
          "metadata": {},
          "execution_count": 3
        }
      ]
    },
    {
      "cell_type": "code",
      "metadata": {
        "id": "7kDCLIpsmyEU",
        "colab": {
          "base_uri": "https://localhost:8080/",
          "height": 418
        },
        "outputId": "8f05676b-ff70-4f1f-b387-717e13fbb65f"
      },
      "source": [
        "SGD2USD = lambda x: x/1.4\n",
        "health_expenditure[['operating_expenditure','development_expenditure','government_health_expenditure']].apply(SGD2USD)"
      ],
      "execution_count": null,
      "outputs": [
        {
          "output_type": "execute_result",
          "data": {
            "text/html": [
              "<div>\n",
              "<style scoped>\n",
              "    .dataframe tbody tr th:only-of-type {\n",
              "        vertical-align: middle;\n",
              "    }\n",
              "\n",
              "    .dataframe tbody tr th {\n",
              "        vertical-align: top;\n",
              "    }\n",
              "\n",
              "    .dataframe thead th {\n",
              "        text-align: right;\n",
              "    }\n",
              "</style>\n",
              "<table border=\"1\" class=\"dataframe\">\n",
              "  <thead>\n",
              "    <tr style=\"text-align: right;\">\n",
              "      <th></th>\n",
              "      <th>operating_expenditure</th>\n",
              "      <th>development_expenditure</th>\n",
              "      <th>government_health_expenditure</th>\n",
              "    </tr>\n",
              "  </thead>\n",
              "  <tbody>\n",
              "    <tr>\n",
              "      <th>0</th>\n",
              "      <td>1314.285714</td>\n",
              "      <td>68.571429</td>\n",
              "      <td>1435.500000</td>\n",
              "    </tr>\n",
              "    <tr>\n",
              "      <th>1</th>\n",
              "      <td>1442.142857</td>\n",
              "      <td>132.142857</td>\n",
              "      <td>1630.857143</td>\n",
              "    </tr>\n",
              "    <tr>\n",
              "      <th>2</th>\n",
              "      <td>1699.285714</td>\n",
              "      <td>240.000000</td>\n",
              "      <td>2010.071429</td>\n",
              "    </tr>\n",
              "    <tr>\n",
              "      <th>3</th>\n",
              "      <td>2085.714286</td>\n",
              "      <td>507.857143</td>\n",
              "      <td>2675.571429</td>\n",
              "    </tr>\n",
              "    <tr>\n",
              "      <th>4</th>\n",
              "      <td>2327.142857</td>\n",
              "      <td>346.428571</td>\n",
              "      <td>2754.785714</td>\n",
              "    </tr>\n",
              "    <tr>\n",
              "      <th>5</th>\n",
              "      <td>2492.142857</td>\n",
              "      <td>323.571429</td>\n",
              "      <td>2922.500000</td>\n",
              "    </tr>\n",
              "    <tr>\n",
              "      <th>6</th>\n",
              "      <td>2904.285714</td>\n",
              "      <td>432.142857</td>\n",
              "      <td>3455.214286</td>\n",
              "    </tr>\n",
              "    <tr>\n",
              "      <th>7</th>\n",
              "      <td>3602.857143</td>\n",
              "      <td>516.428571</td>\n",
              "      <td>4241.500000</td>\n",
              "    </tr>\n",
              "    <tr>\n",
              "      <th>8</th>\n",
              "      <td>4194.285714</td>\n",
              "      <td>819.285714</td>\n",
              "      <td>5159.357143</td>\n",
              "    </tr>\n",
              "    <tr>\n",
              "      <th>9</th>\n",
              "      <td>5371.428571</td>\n",
              "      <td>1009.285714</td>\n",
              "      <td>6171.357143</td>\n",
              "    </tr>\n",
              "    <tr>\n",
              "      <th>10</th>\n",
              "      <td>5856.428571</td>\n",
              "      <td>1155.714286</td>\n",
              "      <td>6647.857143</td>\n",
              "    </tr>\n",
              "    <tr>\n",
              "      <th>11</th>\n",
              "      <td>6238.571429</td>\n",
              "      <td>1046.428571</td>\n",
              "      <td>6974.500000</td>\n",
              "    </tr>\n",
              "  </tbody>\n",
              "</table>\n",
              "</div>"
            ],
            "text/plain": [
              "    operating_expenditure  ...  government_health_expenditure\n",
              "0             1314.285714  ...                    1435.500000\n",
              "1             1442.142857  ...                    1630.857143\n",
              "2             1699.285714  ...                    2010.071429\n",
              "3             2085.714286  ...                    2675.571429\n",
              "4             2327.142857  ...                    2754.785714\n",
              "5             2492.142857  ...                    2922.500000\n",
              "6             2904.285714  ...                    3455.214286\n",
              "7             3602.857143  ...                    4241.500000\n",
              "8             4194.285714  ...                    5159.357143\n",
              "9             5371.428571  ...                    6171.357143\n",
              "10            5856.428571  ...                    6647.857143\n",
              "11            6238.571429  ...                    6974.500000\n",
              "\n",
              "[12 rows x 3 columns]"
            ]
          },
          "metadata": {},
          "execution_count": 4
        }
      ]
    },
    {
      "cell_type": "markdown",
      "metadata": {
        "id": "5515POXngEcl"
      },
      "source": [
        "##Topic 5c: Learning about Linear Regression\n",
        "\n",
        "---\n",
        "\n"
      ]
    },
    {
      "cell_type": "code",
      "metadata": {
        "id": "0QGp0yG0gEcl"
      },
      "source": [
        "x = pd.read_csv('https://raw.githubusercontent.com/tertiarycourses/datasets/master/boston-housing-prices.csv')\n",
        "x"
      ],
      "execution_count": null,
      "outputs": []
    },
    {
      "cell_type": "code",
      "metadata": {
        "id": "hM0a4prM-2WI"
      },
      "source": [
        "y = x.pop('medv')"
      ],
      "execution_count": null,
      "outputs": []
    },
    {
      "cell_type": "code",
      "metadata": {
        "id": "Zv3H8ozZgEcm"
      },
      "source": [
        "from sklearn import linear_model\n",
        "lm = linear_model.LinearRegression()"
      ],
      "execution_count": null,
      "outputs": []
    },
    {
      "cell_type": "code",
      "metadata": {
        "id": "8ImgWvipgEcn"
      },
      "source": [
        "lm.fit(x,y)"
      ],
      "execution_count": null,
      "outputs": []
    },
    {
      "cell_type": "code",
      "metadata": {
        "id": "gRKKdI0K_cV-"
      },
      "source": [
        "yhat = lm.predict(x)"
      ],
      "execution_count": null,
      "outputs": []
    },
    {
      "cell_type": "code",
      "metadata": {
        "id": "RUe3bln7gEco"
      },
      "source": [
        "plt.scatter(y,yhat)\n",
        "plt.xlabel('Actual Housing Price')\n",
        "plt.ylabel('Predicted Housing Price')\n",
        "plt.plot([0,50],[0,50],'r')\n",
        "plt.show()"
      ],
      "execution_count": null,
      "outputs": []
    },
    {
      "cell_type": "markdown",
      "metadata": {
        "id": "TLzFdAWwBzDU"
      },
      "source": [
        "### PAUSE: 16th Quiz of the Day = Linear Regression\n",
        "\n",
        "---\n",
        "\n",
        "* Import the Singapore Health Expenditure dataset\n",
        "from https://raw.githubusercontent.com/tertiarycourses/datasets/master/government-health-expenditure.csv\n",
        "\n",
        "* Create a linear regression for\n",
        ">* operating_expenditure vs\n",
        ">* government_health_expenditure"
      ]
    },
    {
      "cell_type": "code",
      "metadata": {
        "id": "0FUGhfcAm3xZ"
      },
      "source": [
        "x = pd.read_csv('https://raw.githubusercontent.com/tertiarycourses/datasets/master/government-health-expenditure.csv',usecols=['operating_expenditure','government_health_expenditure'])\n",
        "x"
      ],
      "execution_count": null,
      "outputs": []
    },
    {
      "cell_type": "code",
      "metadata": {
        "id": "t2aCWLbrBCeF"
      },
      "source": [
        "y = x.pop('government_health_expenditure')"
      ],
      "execution_count": null,
      "outputs": []
    },
    {
      "cell_type": "code",
      "metadata": {
        "id": "y2rUtqE8BN6N"
      },
      "source": [
        "from sklearn import linear_model\n",
        "lm = linear_model.LinearRegression()"
      ],
      "execution_count": null,
      "outputs": []
    },
    {
      "cell_type": "code",
      "metadata": {
        "id": "L--JG3teBW2r"
      },
      "source": [
        "lm.fit(x,y)\n",
        "yhat = lm.predict(x)"
      ],
      "execution_count": null,
      "outputs": []
    },
    {
      "cell_type": "code",
      "metadata": {
        "id": "p3-D6T-lBasO"
      },
      "source": [
        "plt.scatter(x,y)\n",
        "plt.xlabel('operating_expenditure')\n",
        "plt.ylabel('government_health_expenditure')\n",
        "plt.plot(x,yhat,'r')\n",
        "plt.show()"
      ],
      "execution_count": null,
      "outputs": []
    },
    {
      "cell_type": "markdown",
      "metadata": {
        "id": "t85kMfkCJDqc"
      },
      "source": [
        "# **#THE END OF DAY 2**"
      ]
    }
  ]
}